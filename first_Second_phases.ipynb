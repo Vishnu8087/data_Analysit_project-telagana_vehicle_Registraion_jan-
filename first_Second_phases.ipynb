{
 "cells": [
  {
   "cell_type": "markdown",
   "id": "af561935-fda7-4512-ab3b-ce3d7c7c97ee",
   "metadata": {},
   "source": [
    "# 📜 Project: Data Understanding Report\n",
    "\n",
    " Phase 1: Data Exploration & Initial Assessment"
   ]
  },
  {
   "cell_type": "code",
   "execution_count": 66,
   "id": "b84bac15-c2bf-441b-b28e-3cbead2d240c",
   "metadata": {},
   "outputs": [],
   "source": [
    "\n",
    "import pandas as pd \n",
    "import numpy as np\n",
    "\n",
    "df = pd.read_csv(\"ts_transport_registration_01_01_2025to31_01_2025.csv\")"
   ]
  },
  {
   "cell_type": "markdown",
   "id": "e777e610-f037-4427-928f-6a346bb961d7",
   "metadata": {},
   "source": [
    "### Step 1: Data Understanding\n",
    "### What columns are present?"
   ]
  },
  {
   "cell_type": "code",
   "execution_count": 67,
   "id": "841dc34f-fc57-47e2-acb8-d6d26299342a",
   "metadata": {},
   "outputs": [
    {
     "name": "stdout",
     "output_type": "stream",
     "text": [
      "<class 'pandas.core.frame.DataFrame'>\n",
      "RangeIndex: 343137 entries, 0 to 343136\n",
      "Data columns (total 16 columns):\n",
      " #   Column          Non-Null Count   Dtype  \n",
      "---  ------          --------------   -----  \n",
      " 0   slno            343137 non-null  int64  \n",
      " 1   registrationNo  341450 non-null  object \n",
      " 2   reserve_no      23835 non-null   object \n",
      " 3   regvalidfrom    341445 non-null  object \n",
      " 4   regvalidto      343137 non-null  object \n",
      " 5   makerName       343137 non-null  object \n",
      " 6   modelDesc       343137 non-null  object \n",
      " 7   bodyType        343133 non-null  object \n",
      " 8   cc              343137 non-null  float64\n",
      " 9   cylinder        343137 non-null  int64  \n",
      " 10  fuel            339359 non-null  object \n",
      " 11  hp              343137 non-null  float64\n",
      " 12  seatCapacity    343137 non-null  int64  \n",
      " 13  OfficeCd        343137 non-null  object \n",
      " 14  fromdate        343137 non-null  object \n",
      " 15  todate          343137 non-null  object \n",
      "dtypes: float64(2), int64(3), object(11)\n",
      "memory usage: 41.9+ MB\n"
     ]
    },
    {
     "data": {
      "text/plain": [
       "(343137, 16)"
      ]
     },
     "execution_count": 67,
     "metadata": {},
     "output_type": "execute_result"
    }
   ],
   "source": [
    "df.info()\n",
    "df.shape"
   ]
  },
  {
   "cell_type": "code",
   "execution_count": 68,
   "id": "cf3cad85-e1a0-426c-932e-2873659cafea",
   "metadata": {},
   "outputs": [],
   "source": [
    "#Contains the below columns:\n",
    "### slno: serial_number\n",
    "### Regn_No: Registration Number\n",
    "##  Reserve_no :- vechile pre registration number \n",
    "### Regn_VFDt: Registration Valid From Date \n",
    "### Regn_VTDt: Registration Valid To Date \n",
    "### Maker_Name: Automobile Maker Name Model_Desc: \n",
    "### Vehicle Model Description BodyTyp: Vehicle Body \n",
    "### Type CC:Engine Capacity\n",
    "### Cylinder: Number of Cylinders in the Vehicle \n",
    "### Engine Fuel: Type of Fuel \n",
    "### HP: Horse of the Vehicle \n",
    "### Seat_Capacity: Seat capacity of the vehicle \n",
    "### Apprved_Dt: Approval Date by RTA \n",
    "### OfficeCd: Registration Office\n",
    "\n"
   ]
  },
  {
   "cell_type": "markdown",
   "id": "45ebdb21-e84a-43ac-a2ca-6d5671e0185e",
   "metadata": {},
   "source": [
    "### What kind of data does each column contain?"
   ]
  },
  {
   "cell_type": "code",
   "execution_count": 69,
   "id": "180c68fc",
   "metadata": {},
   "outputs": [
    {
     "data": {
      "text/plain": [
       "slno                int64\n",
       "registrationNo     object\n",
       "reserve_no         object\n",
       "regvalidfrom       object\n",
       "regvalidto         object\n",
       "makerName          object\n",
       "modelDesc          object\n",
       "bodyType           object\n",
       "cc                float64\n",
       "cylinder            int64\n",
       "fuel               object\n",
       "hp                float64\n",
       "seatCapacity        int64\n",
       "OfficeCd           object\n",
       "fromdate           object\n",
       "todate             object\n",
       "dtype: object"
      ]
     },
     "execution_count": 69,
     "metadata": {},
     "output_type": "execute_result"
    }
   ],
   "source": [
    "df.dtypes"
   ]
  },
  {
   "cell_type": "markdown",
   "id": "f3aed01d",
   "metadata": {},
   "source": [
    "###  Are there any missing or unusual values?\n"
   ]
  },
  {
   "cell_type": "code",
   "execution_count": 70,
   "id": "f05b39ba-c6de-4e31-8c8d-e7ccc1beaa06",
   "metadata": {
    "scrolled": true
   },
   "outputs": [
    {
     "data": {
      "text/plain": [
       "slno                   0\n",
       "registrationNo      1687\n",
       "reserve_no        319302\n",
       "regvalidfrom        1692\n",
       "regvalidto             0\n",
       "makerName              0\n",
       "modelDesc              0\n",
       "bodyType               4\n",
       "cc                     0\n",
       "cylinder               0\n",
       "fuel                3778\n",
       "hp                     0\n",
       "seatCapacity           0\n",
       "OfficeCd               0\n",
       "fromdate               0\n",
       "todate                 0\n",
       "dtype: int64"
      ]
     },
     "execution_count": 70,
     "metadata": {},
     "output_type": "execute_result"
    }
   ],
   "source": [
    "df.isna().sum()"
   ]
  },
  {
   "cell_type": "code",
   "execution_count": 71,
   "id": "d53efc2b-a06b-42a4-bebb-c0428c926a0b",
   "metadata": {},
   "outputs": [],
   "source": [
    "##  What You Need to Do in This Step ?"
   ]
  },
  {
   "cell_type": "markdown",
   "id": "11059079",
   "metadata": {},
   "source": [
    "### 2. View sample data Use .head() to preview the first few records.\n",
    "\n"
   ]
  },
  {
   "cell_type": "code",
   "execution_count": 72,
   "id": "b2027f69-4baf-4041-8bb5-2be92b67f71b",
   "metadata": {},
   "outputs": [
    {
     "data": {
      "text/html": [
       "<div>\n",
       "<style scoped>\n",
       "    .dataframe tbody tr th:only-of-type {\n",
       "        vertical-align: middle;\n",
       "    }\n",
       "\n",
       "    .dataframe tbody tr th {\n",
       "        vertical-align: top;\n",
       "    }\n",
       "\n",
       "    .dataframe thead th {\n",
       "        text-align: right;\n",
       "    }\n",
       "</style>\n",
       "<table border=\"1\" class=\"dataframe\">\n",
       "  <thead>\n",
       "    <tr style=\"text-align: right;\">\n",
       "      <th></th>\n",
       "      <th>slno</th>\n",
       "      <th>registrationNo</th>\n",
       "      <th>reserve_no</th>\n",
       "      <th>regvalidfrom</th>\n",
       "      <th>regvalidto</th>\n",
       "      <th>makerName</th>\n",
       "      <th>modelDesc</th>\n",
       "      <th>bodyType</th>\n",
       "      <th>cc</th>\n",
       "      <th>cylinder</th>\n",
       "      <th>fuel</th>\n",
       "      <th>hp</th>\n",
       "      <th>seatCapacity</th>\n",
       "      <th>OfficeCd</th>\n",
       "      <th>fromdate</th>\n",
       "      <th>todate</th>\n",
       "    </tr>\n",
       "  </thead>\n",
       "  <tbody>\n",
       "    <tr>\n",
       "      <th>0</th>\n",
       "      <td>9287073</td>\n",
       "      <td>TS36G2115</td>\n",
       "      <td>NaN</td>\n",
       "      <td>02/03/2020</td>\n",
       "      <td>2035-03-01T17:12:20.747+05:30</td>\n",
       "      <td>MARUTI SUZUKI INDIA LTD.,</td>\n",
       "      <td>MARUTI XL6 SMART HYBRID ALPHA BSVI</td>\n",
       "      <td>HATCHBACK</td>\n",
       "      <td>1462.0</td>\n",
       "      <td>4</td>\n",
       "      <td>PETROL</td>\n",
       "      <td>103.25</td>\n",
       "      <td>6</td>\n",
       "      <td>RTA SIDDIPET</td>\n",
       "      <td>01/01/2025</td>\n",
       "      <td>02/01/2025</td>\n",
       "    </tr>\n",
       "    <tr>\n",
       "      <th>1</th>\n",
       "      <td>10311462</td>\n",
       "      <td>TS21J6061</td>\n",
       "      <td>NaN</td>\n",
       "      <td>29/01/2021</td>\n",
       "      <td>2036-01-28T16:46:36.317+05:30</td>\n",
       "      <td>MARUTI SUZUKI INDIA LTD.,</td>\n",
       "      <td>MARUTI S-PRESSO VXI BSVI</td>\n",
       "      <td>HATCHBACK</td>\n",
       "      <td>998.0</td>\n",
       "      <td>3</td>\n",
       "      <td>PETROL</td>\n",
       "      <td>67.05</td>\n",
       "      <td>5</td>\n",
       "      <td>RTA JAGITYAL</td>\n",
       "      <td>01/01/2025</td>\n",
       "      <td>02/01/2025</td>\n",
       "    </tr>\n",
       "    <tr>\n",
       "      <th>2</th>\n",
       "      <td>10949878</td>\n",
       "      <td>TS08HW0365</td>\n",
       "      <td>NaN</td>\n",
       "      <td>27/11/2021</td>\n",
       "      <td>2036-11-26T16:32:35.737+05:30</td>\n",
       "      <td>HONDA MOTORCYCLE&amp;SCOOTER(I)P L</td>\n",
       "      <td>ACTIVA 6G WITH LED HEAD LIGHT BSVI</td>\n",
       "      <td>Solo</td>\n",
       "      <td>109.0</td>\n",
       "      <td>1</td>\n",
       "      <td>PETROL</td>\n",
       "      <td>7.68</td>\n",
       "      <td>2</td>\n",
       "      <td>RTA UPPAL</td>\n",
       "      <td>01/01/2025</td>\n",
       "      <td>02/01/2025</td>\n",
       "    </tr>\n",
       "    <tr>\n",
       "      <th>3</th>\n",
       "      <td>5255752</td>\n",
       "      <td>TS08FB0182</td>\n",
       "      <td>NaN</td>\n",
       "      <td>03/11/2016</td>\n",
       "      <td>2031-11-02T16:55:19.72+05:30</td>\n",
       "      <td>HONDA MOTORCYCLE&amp;SCOOTER(I)P L</td>\n",
       "      <td>ACTIVA 3G W ELECTRIC A START&amp;K START &amp;CBS BSIII</td>\n",
       "      <td>Solo</td>\n",
       "      <td>109.0</td>\n",
       "      <td>1</td>\n",
       "      <td>PETROL</td>\n",
       "      <td>8.00</td>\n",
       "      <td>2</td>\n",
       "      <td>RTA UPPAL</td>\n",
       "      <td>01/01/2025</td>\n",
       "      <td>02/01/2025</td>\n",
       "    </tr>\n",
       "    <tr>\n",
       "      <th>4</th>\n",
       "      <td>1506087</td>\n",
       "      <td>AP29AJ8075</td>\n",
       "      <td>NaN</td>\n",
       "      <td>25/11/2009</td>\n",
       "      <td>2030-01-01T11:00:52.313+05:30</td>\n",
       "      <td>MARUTI SUZUKI INDIA LTD.,</td>\n",
       "      <td>MARUTI  RITZ LDI BSIV</td>\n",
       "      <td>Solo</td>\n",
       "      <td>1248.0</td>\n",
       "      <td>4</td>\n",
       "      <td>DIESEL</td>\n",
       "      <td>55.00</td>\n",
       "      <td>5</td>\n",
       "      <td>RTA SIDDIPET</td>\n",
       "      <td>01/01/2025</td>\n",
       "      <td>02/01/2025</td>\n",
       "    </tr>\n",
       "  </tbody>\n",
       "</table>\n",
       "</div>"
      ],
      "text/plain": [
       "       slno registrationNo reserve_no regvalidfrom  \\\n",
       "0   9287073      TS36G2115        NaN   02/03/2020   \n",
       "1  10311462      TS21J6061        NaN   29/01/2021   \n",
       "2  10949878     TS08HW0365        NaN   27/11/2021   \n",
       "3   5255752     TS08FB0182        NaN   03/11/2016   \n",
       "4   1506087     AP29AJ8075        NaN   25/11/2009   \n",
       "\n",
       "                      regvalidto                       makerName  \\\n",
       "0  2035-03-01T17:12:20.747+05:30       MARUTI SUZUKI INDIA LTD.,   \n",
       "1  2036-01-28T16:46:36.317+05:30       MARUTI SUZUKI INDIA LTD.,   \n",
       "2  2036-11-26T16:32:35.737+05:30  HONDA MOTORCYCLE&SCOOTER(I)P L   \n",
       "3   2031-11-02T16:55:19.72+05:30  HONDA MOTORCYCLE&SCOOTER(I)P L   \n",
       "4  2030-01-01T11:00:52.313+05:30       MARUTI SUZUKI INDIA LTD.,   \n",
       "\n",
       "                                         modelDesc   bodyType      cc  \\\n",
       "0               MARUTI XL6 SMART HYBRID ALPHA BSVI  HATCHBACK  1462.0   \n",
       "1                         MARUTI S-PRESSO VXI BSVI  HATCHBACK   998.0   \n",
       "2               ACTIVA 6G WITH LED HEAD LIGHT BSVI       Solo   109.0   \n",
       "3  ACTIVA 3G W ELECTRIC A START&K START &CBS BSIII       Solo   109.0   \n",
       "4                            MARUTI  RITZ LDI BSIV       Solo  1248.0   \n",
       "\n",
       "   cylinder    fuel      hp  seatCapacity      OfficeCd    fromdate  \\\n",
       "0         4  PETROL  103.25             6  RTA SIDDIPET  01/01/2025   \n",
       "1         3  PETROL   67.05             5  RTA JAGITYAL  01/01/2025   \n",
       "2         1  PETROL    7.68             2     RTA UPPAL  01/01/2025   \n",
       "3         1  PETROL    8.00             2     RTA UPPAL  01/01/2025   \n",
       "4         4  DIESEL   55.00             5  RTA SIDDIPET  01/01/2025   \n",
       "\n",
       "       todate  \n",
       "0  02/01/2025  \n",
       "1  02/01/2025  \n",
       "2  02/01/2025  \n",
       "3  02/01/2025  \n",
       "4  02/01/2025  "
      ]
     },
     "execution_count": 72,
     "metadata": {},
     "output_type": "execute_result"
    }
   ],
   "source": [
    "df.head()"
   ]
  },
  {
   "cell_type": "code",
   "execution_count": 73,
   "id": "64917e08-a89d-4d20-b029-d3b357aee276",
   "metadata": {},
   "outputs": [
    {
     "data": {
      "text/html": [
       "<div>\n",
       "<style scoped>\n",
       "    .dataframe tbody tr th:only-of-type {\n",
       "        vertical-align: middle;\n",
       "    }\n",
       "\n",
       "    .dataframe tbody tr th {\n",
       "        vertical-align: top;\n",
       "    }\n",
       "\n",
       "    .dataframe thead th {\n",
       "        text-align: right;\n",
       "    }\n",
       "</style>\n",
       "<table border=\"1\" class=\"dataframe\">\n",
       "  <thead>\n",
       "    <tr style=\"text-align: right;\">\n",
       "      <th></th>\n",
       "      <th>slno</th>\n",
       "      <th>registrationNo</th>\n",
       "      <th>reserve_no</th>\n",
       "      <th>regvalidfrom</th>\n",
       "      <th>regvalidto</th>\n",
       "      <th>makerName</th>\n",
       "      <th>modelDesc</th>\n",
       "      <th>bodyType</th>\n",
       "      <th>cc</th>\n",
       "      <th>cylinder</th>\n",
       "      <th>fuel</th>\n",
       "      <th>hp</th>\n",
       "      <th>seatCapacity</th>\n",
       "      <th>OfficeCd</th>\n",
       "      <th>fromdate</th>\n",
       "      <th>todate</th>\n",
       "    </tr>\n",
       "  </thead>\n",
       "  <tbody>\n",
       "    <tr>\n",
       "      <th>count</th>\n",
       "      <td>3.431370e+05</td>\n",
       "      <td>341450</td>\n",
       "      <td>23835</td>\n",
       "      <td>341445</td>\n",
       "      <td>343137</td>\n",
       "      <td>343137</td>\n",
       "      <td>343137</td>\n",
       "      <td>343133</td>\n",
       "      <td>343137.000000</td>\n",
       "      <td>343137.000000</td>\n",
       "      <td>339359</td>\n",
       "      <td>343137.000000</td>\n",
       "      <td>343137.000000</td>\n",
       "      <td>343137</td>\n",
       "      <td>343137</td>\n",
       "      <td>343137</td>\n",
       "    </tr>\n",
       "    <tr>\n",
       "      <th>unique</th>\n",
       "      <td>NaN</td>\n",
       "      <td>174057</td>\n",
       "      <td>12190</td>\n",
       "      <td>6572</td>\n",
       "      <td>71783</td>\n",
       "      <td>748</td>\n",
       "      <td>10029</td>\n",
       "      <td>39</td>\n",
       "      <td>NaN</td>\n",
       "      <td>NaN</td>\n",
       "      <td>13</td>\n",
       "      <td>NaN</td>\n",
       "      <td>NaN</td>\n",
       "      <td>56</td>\n",
       "      <td>30</td>\n",
       "      <td>30</td>\n",
       "    </tr>\n",
       "    <tr>\n",
       "      <th>top</th>\n",
       "      <td>NaN</td>\n",
       "      <td>KA36C7339</td>\n",
       "      <td>TG08M4995</td>\n",
       "      <td>10/01/2025</td>\n",
       "      <td>2040-01-03T18:51:46.993+05:30</td>\n",
       "      <td>HONDA MOTORCYCLE&amp;SCOOTER(I)P L</td>\n",
       "      <td>ACTIVA-DLX BSVI-PH2</td>\n",
       "      <td>Solo</td>\n",
       "      <td>NaN</td>\n",
       "      <td>NaN</td>\n",
       "      <td>PETROL</td>\n",
       "      <td>NaN</td>\n",
       "      <td>NaN</td>\n",
       "      <td>RTA RANGAREDDY</td>\n",
       "      <td>09/01/2025</td>\n",
       "      <td>10/01/2025</td>\n",
       "    </tr>\n",
       "    <tr>\n",
       "      <th>freq</th>\n",
       "      <td>NaN</td>\n",
       "      <td>2</td>\n",
       "      <td>4</td>\n",
       "      <td>9658</td>\n",
       "      <td>942</td>\n",
       "      <td>62617</td>\n",
       "      <td>11560</td>\n",
       "      <td>181842</td>\n",
       "      <td>NaN</td>\n",
       "      <td>NaN</td>\n",
       "      <td>231422</td>\n",
       "      <td>NaN</td>\n",
       "      <td>NaN</td>\n",
       "      <td>28675</td>\n",
       "      <td>17455</td>\n",
       "      <td>17455</td>\n",
       "    </tr>\n",
       "    <tr>\n",
       "      <th>mean</th>\n",
       "      <td>1.114881e+07</td>\n",
       "      <td>NaN</td>\n",
       "      <td>NaN</td>\n",
       "      <td>NaN</td>\n",
       "      <td>NaN</td>\n",
       "      <td>NaN</td>\n",
       "      <td>NaN</td>\n",
       "      <td>NaN</td>\n",
       "      <td>835.948610</td>\n",
       "      <td>3.989415</td>\n",
       "      <td>NaN</td>\n",
       "      <td>47.806952</td>\n",
       "      <td>3.229427</td>\n",
       "      <td>NaN</td>\n",
       "      <td>NaN</td>\n",
       "      <td>NaN</td>\n",
       "    </tr>\n",
       "    <tr>\n",
       "      <th>std</th>\n",
       "      <td>4.294076e+06</td>\n",
       "      <td>NaN</td>\n",
       "      <td>NaN</td>\n",
       "      <td>NaN</td>\n",
       "      <td>NaN</td>\n",
       "      <td>NaN</td>\n",
       "      <td>NaN</td>\n",
       "      <td>NaN</td>\n",
       "      <td>1141.992181</td>\n",
       "      <td>75.539689</td>\n",
       "      <td>NaN</td>\n",
       "      <td>201.605959</td>\n",
       "      <td>3.251204</td>\n",
       "      <td>NaN</td>\n",
       "      <td>NaN</td>\n",
       "      <td>NaN</td>\n",
       "    </tr>\n",
       "    <tr>\n",
       "      <th>min</th>\n",
       "      <td>2.570000e+02</td>\n",
       "      <td>NaN</td>\n",
       "      <td>NaN</td>\n",
       "      <td>NaN</td>\n",
       "      <td>NaN</td>\n",
       "      <td>NaN</td>\n",
       "      <td>NaN</td>\n",
       "      <td>NaN</td>\n",
       "      <td>0.000000</td>\n",
       "      <td>0.000000</td>\n",
       "      <td>NaN</td>\n",
       "      <td>0.000000</td>\n",
       "      <td>0.000000</td>\n",
       "      <td>NaN</td>\n",
       "      <td>NaN</td>\n",
       "      <td>NaN</td>\n",
       "    </tr>\n",
       "    <tr>\n",
       "      <th>25%</th>\n",
       "      <td>8.481106e+06</td>\n",
       "      <td>NaN</td>\n",
       "      <td>NaN</td>\n",
       "      <td>NaN</td>\n",
       "      <td>NaN</td>\n",
       "      <td>NaN</td>\n",
       "      <td>NaN</td>\n",
       "      <td>NaN</td>\n",
       "      <td>113.000000</td>\n",
       "      <td>1.000000</td>\n",
       "      <td>NaN</td>\n",
       "      <td>8.050000</td>\n",
       "      <td>2.000000</td>\n",
       "      <td>NaN</td>\n",
       "      <td>NaN</td>\n",
       "      <td>NaN</td>\n",
       "    </tr>\n",
       "    <tr>\n",
       "      <th>50%</th>\n",
       "      <td>1.421286e+07</td>\n",
       "      <td>NaN</td>\n",
       "      <td>NaN</td>\n",
       "      <td>NaN</td>\n",
       "      <td>NaN</td>\n",
       "      <td>NaN</td>\n",
       "      <td>NaN</td>\n",
       "      <td>NaN</td>\n",
       "      <td>163.000000</td>\n",
       "      <td>1.000000</td>\n",
       "      <td>NaN</td>\n",
       "      <td>13.810000</td>\n",
       "      <td>2.000000</td>\n",
       "      <td>NaN</td>\n",
       "      <td>NaN</td>\n",
       "      <td>NaN</td>\n",
       "    </tr>\n",
       "    <tr>\n",
       "      <th>75%</th>\n",
       "      <td>1.427993e+07</td>\n",
       "      <td>NaN</td>\n",
       "      <td>NaN</td>\n",
       "      <td>NaN</td>\n",
       "      <td>NaN</td>\n",
       "      <td>NaN</td>\n",
       "      <td>NaN</td>\n",
       "      <td>NaN</td>\n",
       "      <td>1199.000000</td>\n",
       "      <td>4.000000</td>\n",
       "      <td>NaN</td>\n",
       "      <td>73.760000</td>\n",
       "      <td>5.000000</td>\n",
       "      <td>NaN</td>\n",
       "      <td>NaN</td>\n",
       "      <td>NaN</td>\n",
       "    </tr>\n",
       "    <tr>\n",
       "      <th>max</th>\n",
       "      <td>1.436026e+07</td>\n",
       "      <td>NaN</td>\n",
       "      <td>NaN</td>\n",
       "      <td>NaN</td>\n",
       "      <td>NaN</td>\n",
       "      <td>NaN</td>\n",
       "      <td>NaN</td>\n",
       "      <td>NaN</td>\n",
       "      <td>29556.000000</td>\n",
       "      <td>2979.000000</td>\n",
       "      <td>NaN</td>\n",
       "      <td>45500.000000</td>\n",
       "      <td>61.000000</td>\n",
       "      <td>NaN</td>\n",
       "      <td>NaN</td>\n",
       "      <td>NaN</td>\n",
       "    </tr>\n",
       "  </tbody>\n",
       "</table>\n",
       "</div>"
      ],
      "text/plain": [
       "                slno registrationNo reserve_no regvalidfrom  \\\n",
       "count   3.431370e+05         341450      23835       341445   \n",
       "unique           NaN         174057      12190         6572   \n",
       "top              NaN      KA36C7339  TG08M4995   10/01/2025   \n",
       "freq             NaN              2          4         9658   \n",
       "mean    1.114881e+07            NaN        NaN          NaN   \n",
       "std     4.294076e+06            NaN        NaN          NaN   \n",
       "min     2.570000e+02            NaN        NaN          NaN   \n",
       "25%     8.481106e+06            NaN        NaN          NaN   \n",
       "50%     1.421286e+07            NaN        NaN          NaN   \n",
       "75%     1.427993e+07            NaN        NaN          NaN   \n",
       "max     1.436026e+07            NaN        NaN          NaN   \n",
       "\n",
       "                           regvalidto                       makerName  \\\n",
       "count                          343137                          343137   \n",
       "unique                          71783                             748   \n",
       "top     2040-01-03T18:51:46.993+05:30  HONDA MOTORCYCLE&SCOOTER(I)P L   \n",
       "freq                              942                           62617   \n",
       "mean                              NaN                             NaN   \n",
       "std                               NaN                             NaN   \n",
       "min                               NaN                             NaN   \n",
       "25%                               NaN                             NaN   \n",
       "50%                               NaN                             NaN   \n",
       "75%                               NaN                             NaN   \n",
       "max                               NaN                             NaN   \n",
       "\n",
       "                  modelDesc bodyType             cc       cylinder    fuel  \\\n",
       "count                343137   343133  343137.000000  343137.000000  339359   \n",
       "unique                10029       39            NaN            NaN      13   \n",
       "top     ACTIVA-DLX BSVI-PH2     Solo            NaN            NaN  PETROL   \n",
       "freq                  11560   181842            NaN            NaN  231422   \n",
       "mean                    NaN      NaN     835.948610       3.989415     NaN   \n",
       "std                     NaN      NaN    1141.992181      75.539689     NaN   \n",
       "min                     NaN      NaN       0.000000       0.000000     NaN   \n",
       "25%                     NaN      NaN     113.000000       1.000000     NaN   \n",
       "50%                     NaN      NaN     163.000000       1.000000     NaN   \n",
       "75%                     NaN      NaN    1199.000000       4.000000     NaN   \n",
       "max                     NaN      NaN   29556.000000    2979.000000     NaN   \n",
       "\n",
       "                   hp   seatCapacity        OfficeCd    fromdate      todate  \n",
       "count   343137.000000  343137.000000          343137      343137      343137  \n",
       "unique            NaN            NaN              56          30          30  \n",
       "top               NaN            NaN  RTA RANGAREDDY  09/01/2025  10/01/2025  \n",
       "freq              NaN            NaN           28675       17455       17455  \n",
       "mean        47.806952       3.229427             NaN         NaN         NaN  \n",
       "std        201.605959       3.251204             NaN         NaN         NaN  \n",
       "min          0.000000       0.000000             NaN         NaN         NaN  \n",
       "25%          8.050000       2.000000             NaN         NaN         NaN  \n",
       "50%         13.810000       2.000000             NaN         NaN         NaN  \n",
       "75%         73.760000       5.000000             NaN         NaN         NaN  \n",
       "max      45500.000000      61.000000             NaN         NaN         NaN  "
      ]
     },
     "execution_count": 73,
     "metadata": {},
     "output_type": "execute_result"
    }
   ],
   "source": [
    "df.describe(include = \"all\")"
   ]
  },
  {
   "cell_type": "code",
   "execution_count": 74,
   "id": "e5285161-f7fd-4a1e-833f-f7ac924ed245",
   "metadata": {},
   "outputs": [
    {
     "data": {
      "text/plain": [
       "slno                   0\n",
       "registrationNo      1687\n",
       "reserve_no        319302\n",
       "regvalidfrom        1692\n",
       "regvalidto             0\n",
       "makerName              0\n",
       "modelDesc              0\n",
       "bodyType               4\n",
       "cc                     0\n",
       "cylinder               0\n",
       "fuel                3778\n",
       "hp                     0\n",
       "seatCapacity           0\n",
       "OfficeCd               0\n",
       "fromdate               0\n",
       "todate                 0\n",
       "dtype: int64"
      ]
     },
     "execution_count": 74,
     "metadata": {},
     "output_type": "execute_result"
    }
   ],
   "source": [
    "df.isnull().sum()"
   ]
  },
  {
   "cell_type": "markdown",
   "id": "bc83b094",
   "metadata": {},
   "source": [
    "### value_counts()and nuique each columnss"
   ]
  },
  {
   "cell_type": "code",
   "execution_count": 75,
   "id": "b7df4362",
   "metadata": {},
   "outputs": [
    {
     "name": "stdout",
     "output_type": "stream",
     "text": [
      "***** slno *****\n",
      "slno\n",
      "14334590    2\n",
      "12831877    2\n",
      "12572951    2\n",
      "1595865     2\n",
      "10091592    2\n",
      "           ..\n",
      "14331631    1\n",
      "14350878    1\n",
      "14333556    1\n",
      "14340093    1\n",
      "8718345     1\n",
      "Name: count, Length: 174949, dtype: int64\n",
      "174949\n",
      "***** registrationNo *****\n",
      "registrationNo\n",
      "KA36C7339     2\n",
      "TS13ER3987    2\n",
      "AP09BD7509    2\n",
      "TG36A3084     2\n",
      "TS10FG4697    2\n",
      "             ..\n",
      "AP05BT3456    1\n",
      "TS29G5206     1\n",
      "AP24AS8601    1\n",
      "TS29E1035     1\n",
      "TS29Q0099     1\n",
      "Name: count, Length: 174057, dtype: int64\n",
      "174057\n",
      "***** reserve_no *****\n",
      "reserve_no\n",
      "TG08M4995    4\n",
      "TG236660     4\n",
      "TG16C2889    4\n",
      "TG07N5056    4\n",
      "TG07N5567    4\n",
      "            ..\n",
      "TG09E0019    1\n",
      "TG11B0279    1\n",
      "TG09E0003    1\n",
      "TG07P2882    1\n",
      "TG07P2883    1\n",
      "Name: count, Length: 12190, dtype: int64\n",
      "12190\n",
      "***** regvalidfrom *****\n",
      "regvalidfrom\n",
      "10/01/2025    9658\n",
      "04/01/2025    9374\n",
      "06/01/2025    9140\n",
      "18/01/2025    9082\n",
      "09/01/2025    8803\n",
      "              ... \n",
      "18/06/1969       1\n",
      "12/08/2002       1\n",
      "27/08/2002       1\n",
      "03/03/2011       1\n",
      "02/09/1958       1\n",
      "Name: count, Length: 6572, dtype: int64\n",
      "6572\n",
      "***** regvalidto *****\n",
      "regvalidto\n",
      "2040-01-03T18:51:46.993+05:30    942\n",
      "2040-01-17T18:16:35.703+05:30    862\n",
      "2040-01-09T18:40:24.183+05:30    772\n",
      "2040-01-24T19:39:48.727+05:30    762\n",
      "2040-01-07T18:32:02.953+05:30    730\n",
      "                                ... \n",
      "2033-03-21T16:04:38.157+05:30      1\n",
      "2030-01-30T18:13:39.657+05:30      1\n",
      "2030-01-30T18:13:25.487+05:30      1\n",
      "2030-01-30T18:12:45.5+05:30        1\n",
      "2030-01-30T18:12:30.843+05:30      1\n",
      "Name: count, Length: 71783, dtype: int64\n",
      "71783\n",
      "***** makerName *****\n",
      "makerName\n",
      "HONDA MOTORCYCLE&SCOOTER(I)P L            62617\n",
      "MARUTI SUZUKI INDIA LTD.,                 38653\n",
      "BAJAJ AUTO LTD                            35937\n",
      "HERO MOTOCORP LTD                         28550\n",
      "TVS MOTOR COMPANY LTD                     24820\n",
      "                                          ...  \n",
      "WASIM MEERA ENGINEERING WORKS                 1\n",
      "M/S VENKATARAMANA AGRO AGENCY,METPALLY        1\n",
      "NEW SRI SHIVA ENGG WORKS MBNR                 1\n",
      "M/S SRI RAMA AGRO INDUSTRIES                  1\n",
      "SRI SAI LAXMI TULJA ENGG WORKS                1\n",
      "Name: count, Length: 748, dtype: int64\n",
      "748\n",
      "***** modelDesc *****\n",
      "modelDesc\n",
      "ACTIVA-DLX BSVI-PH2                           11560\n",
      "PASSION + I 3S DRS BSVI-PH2                    5484\n",
      "UNICORN BSVI-PH2                               5083\n",
      "ACTIVA 125 DISC BSVI-PH2                       4857\n",
      "SHINE 125 DRUM BSVI-PH2                        3966\n",
      "                                              ...  \n",
      "BMW- M340I LCI BSVI-PH2                           1\n",
      "6055 F24- (BRANDNAME-FARMTRAC) BSIIIA             1\n",
      "LPT 407 EX/34 BSIV FFC TC CAB LB PF               1\n",
      "CROP TIGER 40W M460 SELF PROPELLED CH BSIV        1\n",
      "MARUTI S-PRESSO VXI (O) 1L ISS AGS BSVI           1\n",
      "Name: count, Length: 10029, dtype: int64\n",
      "10029\n",
      "***** bodyType *****\n",
      "bodyType\n",
      "Solo                           181842\n",
      "Sedan                           43885\n",
      "Open                            36500\n",
      "HATCHBACK                       35328\n",
      "Saloon                          13386\n",
      "Station Wagon                    6978\n",
      "Monocoque                        6686\n",
      "Hard Top                         5352\n",
      "Hackney                          4384\n",
      "Closed                           3101\n",
      "TIPPER                           1755\n",
      "TANKER                            945\n",
      "COMBINED HARVESTER                784\n",
      "Soft Top                          486\n",
      "Coupe                             391\n",
      "CONCRETE MIXER                    159\n",
      "TRANSITMIXER                      154\n",
      "Van                               146\n",
      "Crane                             109\n",
      "CAGE                              100\n",
      "Tourer                             90\n",
      "MOBILE CRANE                       89\n",
      "Compressor Mounted                 87\n",
      "PLATFORM                           85\n",
      "Jeep                               74\n",
      "Steel Body                         57\n",
      "CHASSIS                            49\n",
      "Equipment Mounted Vehicle          27\n",
      "Pickup                             26\n",
      "TROOP CARRIER                      24\n",
      "RECOVERYVEHICLE                    16\n",
      "Unitized                           10\n",
      "Modular                             8\n",
      "INA                                 4\n",
      "NOTCHBLACK                          4\n",
      "N.C.Shell                           4\n",
      "Sky Lift                            4\n",
      "MINIDOR                             2\n",
      "Truck mounted concrete pump         2\n",
      "Name: count, dtype: int64\n",
      "39\n",
      "***** cc *****\n",
      "cc\n",
      "124.0     36870\n",
      "97.0      23231\n",
      "1197.0    22520\n",
      "110.0     22085\n",
      "125.0     21331\n",
      "          ...  \n",
      "147.5         1\n",
      "3387.0        1\n",
      "3295.0        1\n",
      "3023.0        1\n",
      "2878.0        1\n",
      "Name: count, Length: 588, dtype: int64\n",
      "588\n",
      "***** cylinder *****\n",
      "cylinder\n",
      "1       185720\n",
      "4        88853\n",
      "3        40469\n",
      "0        17168\n",
      "6         6543\n",
      "2         4058\n",
      "2979       221\n",
      "5           72\n",
      "8           26\n",
      "10           4\n",
      "12           3\n",
      "Name: count, dtype: int64\n",
      "11\n",
      "***** fuel *****\n",
      "fuel\n",
      "PETROL             231422\n",
      "DIESEL              81638\n",
      "BATTERY             12709\n",
      "CNG PETROL           7156\n",
      "PETROL LPG           5243\n",
      "-1                    439\n",
      "CNG                   374\n",
      "DIESEL ELECTRIC       195\n",
      "PETROL ELECTRIC       135\n",
      "LPG                    32\n",
      "0                      10\n",
      "petrol                  4\n",
      "CNG DIESEL              2\n",
      "Name: count, dtype: int64\n",
      "13\n",
      "***** hp *****\n",
      "hp\n",
      "7.91      17754\n",
      "7.74      13936\n",
      "8.58      10111\n",
      "88.51      9968\n",
      "8.19       8446\n",
      "          ...  \n",
      "33.80         2\n",
      "570.00        1\n",
      "59.12         1\n",
      "56.10         1\n",
      "331.00        1\n",
      "Name: count, Length: 1055, dtype: int64\n",
      "1055\n",
      "***** seatCapacity *****\n",
      "seatCapacity\n",
      "2     191919\n",
      "5      85155\n",
      "1      20745\n",
      "7      13164\n",
      "4      12523\n",
      "3       8653\n",
      "0       4226\n",
      "8       2501\n",
      "6       1386\n",
      "10       638\n",
      "41       278\n",
      "12       178\n",
      "36       164\n",
      "9        153\n",
      "13       150\n",
      "51       104\n",
      "57        88\n",
      "42        83\n",
      "47        77\n",
      "56        77\n",
      "11        76\n",
      "58        75\n",
      "37        62\n",
      "40        61\n",
      "23        59\n",
      "50        50\n",
      "32        39\n",
      "33        34\n",
      "24        30\n",
      "53        30\n",
      "22        29\n",
      "43        28\n",
      "31        24\n",
      "25        24\n",
      "14        22\n",
      "60        22\n",
      "29        21\n",
      "39        20\n",
      "28        18\n",
      "35        16\n",
      "45        15\n",
      "48        14\n",
      "49        13\n",
      "18        13\n",
      "20        12\n",
      "27        12\n",
      "21        11\n",
      "44         9\n",
      "26         8\n",
      "17         6\n",
      "52         6\n",
      "55         4\n",
      "19         4\n",
      "16         2\n",
      "46         2\n",
      "61         2\n",
      "38         2\n",
      "Name: count, dtype: int64\n",
      "57\n",
      "***** OfficeCd *****\n",
      "OfficeCd\n",
      "RTA RANGAREDDY              28675\n",
      "RTA MEDCHAL                 22680\n",
      "RTA IBRAHIMPATNAM           22148\n",
      "RTA UPPAL                   20818\n",
      "RTA-HYDERABAD-CZ            19897\n",
      "RTA-HYDERABAD-SZ            11566\n",
      "RTA-HYDERABAD-NZ            11405\n",
      "RTA-HYDERABAD-WZ            11050\n",
      "RTA-HYDERABAD-EZ             9286\n",
      "RTA NALGONDA                 9161\n",
      "RTA NIZAMABAD                8357\n",
      "UNIT OFFICE KUKATPALLY       8302\n",
      "RTA KHAMMAM                  7882\n",
      "RTA KARIMNAGAR               7858\n",
      "RTA SIDDIPET                 7311\n",
      "RTA MAHABOOBNAGAR            6831\n",
      "RTA YADADRI                  6341\n",
      "RTA SANGAREDDY               6267\n",
      "RTA HANUMAKONDA              6199\n",
      "UNIT OFFICE PATANCHERUVU     6139\n",
      "RTA KAMAREDDY                6122\n",
      "RTA WARANGAL                 5284\n",
      "RTA SURYAPET                 5265\n",
      "RTA MANCHERIAL               4909\n",
      "RTA BHADRADRI                4520\n",
      "UNIT OFFICE MIRYALAGUDA      4381\n",
      "RTA MEDAK                    4340\n",
      "RTA ADILABAD                 3982\n",
      "RTA NIRMAL                   3761\n",
      "RTA JAGITYAL                 3740\n",
      "RTA RAJANNA                  3728\n",
      "RTA PEDDAPALLI               3714\n",
      "RTA MAHABUBABAD              3465\n",
      "RTA NARAYANPET               3442\n",
      "RTA NAGARKURNOOL             3424\n",
      "RTA JOGULAMBA                3414\n",
      "RTA JANGOAN                  3133\n",
      "RTA VIKARABAD                2904\n",
      "RTA WANAPARTHY               2664\n",
      "UNIT OFFICE PARGI            2664\n",
      "UNIT OFFICE ZAHIRABAD        2517\n",
      "UNIT OFFICE KODAD            2459\n",
      "RTA KOMRAMBHEEM              2418\n",
      "UNIT OFFICE ARMOOR           2369\n",
      "UNIT OFFICE SHADNAGAR        2355\n",
      "RTA JAYASHANKAR              1906\n",
      "UNIT OFFICE KORUTLA          1786\n",
      "UNIT OFFICE RAMAGUNDAM       1533\n",
      "UNIT OFFICE BHODAN           1482\n",
      "UNIT OFFICE BHADRACHALAM     1361\n",
      "UNIT OFFICE HUZURABAD        1204\n",
      "UNIT OFFICE SATTUPALLI       1201\n",
      "RTA MULUGU                   1174\n",
      "UNIT OFFICE WYRA             1163\n",
      "UNIT OFFICE KALWAKURTHY       754\n",
      "UNIT OFFICE PEBBAIR           426\n",
      "Name: count, dtype: int64\n",
      "56\n",
      "***** fromdate *****\n",
      "fromdate\n",
      "09/01/2025    17455\n",
      "08/01/2025    16496\n",
      "03/01/2025    16301\n",
      "24/01/2025    16246\n",
      "17/01/2025    16145\n",
      "20/01/2025    15694\n",
      "21/01/2025    15571\n",
      "06/01/2025    15432\n",
      "02/01/2025    15413\n",
      "07/01/2025    15343\n",
      "27/01/2025    15078\n",
      "23/01/2025    14902\n",
      "22/01/2025    14867\n",
      "16/01/2025    14052\n",
      "30/01/2025    14043\n",
      "28/01/2025    13871\n",
      "29/01/2025    13858\n",
      "15/01/2025    11357\n",
      "10/01/2025     9102\n",
      "18/01/2025     8826\n",
      "04/01/2025     8494\n",
      "25/01/2025     8373\n",
      "05/01/2025     8230\n",
      "19/01/2025     7963\n",
      "26/01/2025     7784\n",
      "01/01/2025     7606\n",
      "14/01/2025     4627\n",
      "11/01/2025        3\n",
      "13/01/2025        3\n",
      "12/01/2025        2\n",
      "Name: count, dtype: int64\n",
      "30\n",
      "***** todate *****\n",
      "todate\n",
      "10/01/2025    17455\n",
      "09/01/2025    16496\n",
      "04/01/2025    16301\n",
      "25/01/2025    16246\n",
      "18/01/2025    16145\n",
      "21/01/2025    15694\n",
      "22/01/2025    15571\n",
      "07/01/2025    15432\n",
      "03/01/2025    15413\n",
      "08/01/2025    15343\n",
      "28/01/2025    15078\n",
      "24/01/2025    14902\n",
      "23/01/2025    14867\n",
      "17/01/2025    14052\n",
      "31/01/2025    14043\n",
      "29/01/2025    13871\n",
      "30/01/2025    13858\n",
      "16/01/2025    11357\n",
      "11/01/2025     9102\n",
      "19/01/2025     8826\n",
      "05/01/2025     8494\n",
      "26/01/2025     8373\n",
      "06/01/2025     8230\n",
      "20/01/2025     7963\n",
      "27/01/2025     7784\n",
      "02/01/2025     7606\n",
      "15/01/2025     4627\n",
      "12/01/2025        3\n",
      "14/01/2025        3\n",
      "13/01/2025        2\n",
      "Name: count, dtype: int64\n",
      "30\n"
     ]
    }
   ],
   "source": [
    " for i in df.columns:\n",
    "  print(\"*\"*(5) ,i, \"*\"*(5))\n",
    "  print(df[i].value_counts())\n",
    "  print(df[i].nunique())"
   ]
  },
  {
   "cell_type": "markdown",
   "id": "80f92a60",
   "metadata": {},
   "source": [
    "## Questions to Answer in Your Report"
   ]
  },
  {
   "cell_type": "markdown",
   "id": "f3e9db48",
   "metadata": {},
   "source": [
    "### What is the distribution of key fields like:"
   ]
  },
  {
   "cell_type": "markdown",
   "id": "ad969333-5a7e-4a97-ba08-d1f06749c469",
   "metadata": {},
   "source": [
    "### \" 1 Slno\""
   ]
  },
  {
   "cell_type": "code",
   "execution_count": 76,
   "id": "c837da10",
   "metadata": {},
   "outputs": [
    {
     "data": {
      "text/plain": [
       "np.int64(168188)"
      ]
     },
     "execution_count": 76,
     "metadata": {},
     "output_type": "execute_result"
    }
   ],
   "source": [
    " df[\"slno\"].duplicated(keep= \"first\").sum() "
   ]
  },
  {
   "cell_type": "code",
   "execution_count": 77,
   "id": "bf1334b7",
   "metadata": {},
   "outputs": [],
   "source": [
    "w = df[\"slno\"].duplicated() == True\n",
    "indices = np.where(w.values == True)[0]  # indices is a numpy array\n"
   ]
  },
  {
   "cell_type": "markdown",
   "id": "0df36146",
   "metadata": {},
   "source": []
  },
  {
   "cell_type": "code",
   "execution_count": 78,
   "id": "589be696",
   "metadata": {},
   "outputs": [
    {
     "data": {
      "text/plain": [
       "168188"
      ]
     },
     "execution_count": 78,
     "metadata": {},
     "output_type": "execute_result"
    }
   ],
   "source": [
    "sum(df[\"slno\"].value_counts()==2)"
   ]
  },
  {
   "cell_type": "code",
   "execution_count": 79,
   "id": "a95ad4e7",
   "metadata": {},
   "outputs": [
    {
     "data": {
      "text/plain": [
       "174949"
      ]
     },
     "execution_count": 79,
     "metadata": {},
     "output_type": "execute_result"
    }
   ],
   "source": [
    "df[\"slno\"].nunique()"
   ]
  },
  {
   "cell_type": "code",
   "execution_count": 80,
   "id": "7afef825",
   "metadata": {},
   "outputs": [
    {
     "name": "stdout",
     "output_type": "stream",
     "text": [
      "168188\n",
      "Duplicated (appear exactly twice): 168188\n",
      "Not Duplicated (appear ≠ 2): 6761\n"
     ]
    }
   ],
   "source": [
    "# Step 1: Get boolean series where value_counts == 2\n",
    "w = df[\"slno\"].value_counts() == 2\n",
    "\n",
    "print(w.sum())\n",
    "\n",
    "# Step 2: Count how many are exactly True (appear exactly twice)\n",
    "duplicated_twice_count = w.sum()\n",
    "\n",
    "# Step 3: Count how many are not exactly twice\n",
    "not_duplicated_twice_count = len(w) - duplicated_twice_count\n",
    "\n",
    "print(\"Duplicated (appear exactly twice):\", duplicated_twice_count)\n",
    "print(\"Not Duplicated (appear ≠ 2):\", not_duplicated_twice_count)\n"
   ]
  },
  {
   "cell_type": "code",
   "execution_count": 81,
   "id": "4880edc6",
   "metadata": {},
   "outputs": [
    {
     "name": "stdout",
     "output_type": "stream",
     "text": [
      "Rows with slno appearing exactly twice: 336376\n",
      "Other rows: 6761\n",
      "Total rows: 343137\n",
      "Check: True\n"
     ]
    }
   ],
   "source": [
    "vc = df[\"slno\"].value_counts()\n",
    "exactly_twice_ids = vc[vc == 2].index\n",
    "\n",
    "# Rows where slno appears exactly twice\n",
    "duplicated_twice_rows = df[df[\"slno\"].isin(exactly_twice_ids)]\n",
    "\n",
    "# Count rows that are part of duplicated slnos\n",
    "print(\"Rows with slno appearing exactly twice:\", len(duplicated_twice_rows))\n",
    "\n",
    "# Total rows that are not part of those\n",
    "not_duplicated_twice_rows = df[~df[\"slno\"].isin(exactly_twice_ids)]\n",
    "print(\"Other rows:\", len(not_duplicated_twice_rows))\n",
    "\n",
    "# Sanity check\n",
    "print(\"Total rows:\", len(df))\n",
    "print(\"Check:\", len(duplicated_twice_rows) + len(not_duplicated_twice_rows) == len(df))\n"
   ]
  },
  {
   "cell_type": "markdown",
   "id": "2bc9b65b",
   "metadata": {},
   "source": [
    "### Single serial numbers (appear only once or not exactly twice): 6,761\n",
    "###  Duplicated serial numbers (appear exactly twice): 168,188 unique\n",
    "\n",
    "### Total rows from duplicated serials: 168,188 × 2 = 336,376  There  is no missing values\n",
    "  \n",
    "### total rows =336,376 + 6,761 = 343,137\n"
   ]
  },
  {
   "cell_type": "code",
   "execution_count": null,
   "id": "bd2aaf7a",
   "metadata": {},
   "outputs": [],
   "source": []
  },
  {
   "cell_type": "markdown",
   "id": "2bd651cf",
   "metadata": {},
   "source": [
    "## 2 registartionNO"
   ]
  },
  {
   "cell_type": "code",
   "execution_count": null,
   "id": "1471e58d",
   "metadata": {},
   "outputs": [],
   "source": []
  },
  {
   "cell_type": "code",
   "execution_count": 82,
   "id": "33c440ed",
   "metadata": {},
   "outputs": [
    {
     "data": {
      "text/plain": [
       "0         False\n",
       "1         False\n",
       "2         False\n",
       "3         False\n",
       "4         False\n",
       "          ...  \n",
       "343132     True\n",
       "343133     True\n",
       "343134    False\n",
       "343135    False\n",
       "343136    False\n",
       "Name: registrationNo, Length: 343137, dtype: bool"
      ]
     },
     "execution_count": 82,
     "metadata": {},
     "output_type": "execute_result"
    }
   ],
   "source": [
    "df[\"registrationNo\"].duplicated()"
   ]
  },
  {
   "cell_type": "code",
   "execution_count": 83,
   "id": "8a190b73",
   "metadata": {},
   "outputs": [
    {
     "data": {
      "text/plain": [
       "registrationNo\n",
       "KA36C7339     2\n",
       "TS13ER3987    2\n",
       "AP09BD7509    2\n",
       "TG36A3084     2\n",
       "TS10FG4697    2\n",
       "             ..\n",
       "AP05BT3456    1\n",
       "TS29G5206     1\n",
       "AP24AS8601    1\n",
       "TS29E1035     1\n",
       "TS29Q0099     1\n",
       "Name: count, Length: 174057, dtype: int64"
      ]
     },
     "execution_count": 83,
     "metadata": {},
     "output_type": "execute_result"
    }
   ],
   "source": [
    "# registraion number :\n",
    "df[\"registrationNo\"].value_counts()\n"
   ]
  },
  {
   "cell_type": "code",
   "execution_count": 84,
   "id": "cd36b8b6",
   "metadata": {},
   "outputs": [
    {
     "data": {
      "text/plain": [
       "174057"
      ]
     },
     "execution_count": 84,
     "metadata": {},
     "output_type": "execute_result"
    }
   ],
   "source": [
    "df[\"registrationNo\"].nunique()"
   ]
  },
  {
   "cell_type": "code",
   "execution_count": 85,
   "id": "3fcb4adc",
   "metadata": {},
   "outputs": [
    {
     "name": "stdout",
     "output_type": "stream",
     "text": [
      "Duplicated (appear exactly twice): 167393\n",
      "Not Duplicated (appear ≠ 2): 6664\n",
      "total nuique numbers 174057\n"
     ]
    }
   ],
   "source": [
    "# Step 1: Get boolean series where value_counts == 2\n",
    "w = df[\"registrationNo\"].value_counts() == 2\n",
    "\n",
    "# Step 2: Count how many are exactly True (appear exactly twice)\n",
    "duplicated_twice_count = w.sum()\n",
    "\n",
    "# Step 3: Count how many are not exactly twice\n",
    "not_duplicated_twice_count = len(w) - duplicated_twice_count\n",
    "\n",
    "print(\"Duplicated (appear exactly twice):\", duplicated_twice_count)\n",
    "print(\"Not Duplicated (appear ≠ 2):\", not_duplicated_twice_count)\n",
    "print(\"total nuique numbers\", duplicated_twice_count+ not_duplicated_twice_count)\n"
   ]
  },
  {
   "cell_type": "markdown",
   "id": "d4276c78",
   "metadata": {},
   "source": [
    "### registrationNo \n",
    "### Duplicated registration numbers (appear exactly twice):\u000b",
    "\n",
    "167,393 unique values → 167,393 × 2 = 334,786 rows\n",
    "### Single registration numbers (appear only once):6,664 unique values → 6,664 rows\n",
    "### Total unique registration numbers (nunique):   167,393 + 6,664 = 174,057\n",
    "### Total rows in the dataset:    334,786 (duplicated) + 6,664 (single) = 341,450 without missing values \n",
    "#### 1687  are missing values.  So reserve_nno  values 92% match registration number\n",
    "##### registration==null and reserve_no == notnull  we get 1686 number we fill  the registration number \n",
    "       it and remove One row  we remove it\n",
    "\n"
   ]
  },
  {
   "cell_type": "markdown",
   "id": "0c1f2605",
   "metadata": {},
   "source": [
    "#  3 reserve no"
   ]
  },
  {
   "cell_type": "code",
   "execution_count": 86,
   "id": "8f8e7bb2",
   "metadata": {},
   "outputs": [
    {
     "data": {
      "text/plain": [
       "reserve_no\n",
       "TG08M4995    4\n",
       "TG236660     4\n",
       "TG16C2889    4\n",
       "TG07N5056    4\n",
       "TG07N5567    4\n",
       "            ..\n",
       "TG09E0019    1\n",
       "TG11B0279    1\n",
       "TG09E0003    1\n",
       "TG07P2882    1\n",
       "TG07P2883    1\n",
       "Name: count, Length: 12190, dtype: int64"
      ]
     },
     "execution_count": 86,
     "metadata": {},
     "output_type": "execute_result"
    }
   ],
   "source": [
    "# Reserve_no\n",
    "\n",
    "df[\"reserve_no\"].value_counts()\n"
   ]
  },
  {
   "cell_type": "code",
   "execution_count": null,
   "id": "cd017dfd",
   "metadata": {},
   "outputs": [],
   "source": []
  },
  {
   "cell_type": "code",
   "execution_count": 87,
   "id": "2e21134b",
   "metadata": {},
   "outputs": [
    {
     "name": "stdout",
     "output_type": "stream",
     "text": [
      "12190\n"
     ]
    }
   ],
   "source": [
    "\n",
    "four  = df[\"reserve_no\"].value_counts() == 4\n",
    "three  = df[\"reserve_no\"].value_counts() == 3\n",
    "two  = df[\"reserve_no\"].value_counts() == 2\n",
    "one   = df[\"reserve_no\"].value_counts() == 1\n",
    "sum = four.sum()+three.sum() + two.sum() +one.sum()\n",
    "print(sum)\n",
    "\n",
    "\n",
    "#print(four.sum())\n",
    "\n",
    "\n",
    "\n"
   ]
  },
  {
   "cell_type": "code",
   "execution_count": 88,
   "id": "83e1add7",
   "metadata": {},
   "outputs": [
    {
     "data": {
      "text/plain": [
       "12190"
      ]
     },
     "execution_count": 88,
     "metadata": {},
     "output_type": "execute_result"
    }
   ],
   "source": [
    "df[\"reserve_no\"].nunique()\n"
   ]
  },
  {
   "cell_type": "code",
   "execution_count": 89,
   "id": "ddc841d0",
   "metadata": {},
   "outputs": [
    {
     "name": "stdout",
     "output_type": "stream",
     "text": [
      "558\n",
      "23250\n",
      "3\n",
      "24\n",
      "23835\n"
     ]
    },
    {
     "data": {
      "text/plain": [
       "12190"
      ]
     },
     "execution_count": 89,
     "metadata": {},
     "output_type": "execute_result"
    }
   ],
   "source": [
    "two = 11625*2\n",
    "three = 3*1\n",
    "four = 4* 6\n",
    "one = 558 *1\n",
    "total = one +two + three +four\n",
    "total\n",
    "print(one)\n",
    "print(two)\n",
    "print(three)\n",
    "print(four)\n",
    "print(total)\n",
    "df[\"reserve_no\"].nunique()\n"
   ]
  },
  {
   "cell_type": "code",
   "execution_count": 90,
   "id": "b3e3f8c6",
   "metadata": {},
   "outputs": [
    {
     "data": {
      "text/plain": [
       "np.int64(23835)"
      ]
     },
     "execution_count": 90,
     "metadata": {},
     "output_type": "execute_result"
    }
   ],
   "source": [
    "df[\"reserve_no\"].notnull().sum()\n"
   ]
  },
  {
   "cell_type": "code",
   "execution_count": null,
   "id": "a9e249d5",
   "metadata": {},
   "outputs": [],
   "source": []
  },
  {
   "cell_type": "code",
   "execution_count": 91,
   "id": "731e70a3",
   "metadata": {},
   "outputs": [
    {
     "name": "stdout",
     "output_type": "stream",
     "text": [
      "Count: 1686\n",
      "Total Rows: 343137\n",
      "Percentage: 0.49%\n"
     ]
    }
   ],
   "source": [
    "# Condition: reserve_no is present but registrationNo is missing\n",
    "condition = (df['reserve_no'].notnull()) & (\n",
    "    df['registrationNo'].isna() | (df['registrationNo'].astype(str).str.strip() == '')\n",
    ")\n",
    "\n",
    "# Count of such rows\n",
    "count_reserved_but_no_registration = condition.sum()\n",
    "\n",
    "# Total number of rows in dataset\n",
    "total_rows = len(df)\n",
    "\n",
    "# Calculate percentage\n",
    "percentage = (count_reserved_but_no_registration / total_rows) * 100\n",
    "\n",
    "print(f\"Count: {count_reserved_but_no_registration}\")\n",
    "print(f\"Total Rows: {total_rows}\")\n",
    "print(f\"Percentage: {percentage:.2f}%\")\n"
   ]
  },
  {
   "cell_type": "markdown",
   "id": "662991d6",
   "metadata": {},
   "source": [
    "### reserve_no:- pre  registration numbers:\n",
    "#### Out of 343,137 total rows, only 23,835 rows contain This means 317,302 rows (~93.05%) .are null values\n",
    "### Repetition Frequency:\u000b",
    "\n",
    "Among the non-null values:\n",
    " ### 6  appears 4 times,    6X4 = 24\n",
    " ### 1  appears 3 times,    1 X 3 = 3  \n",
    " ### 11625  appears 2 times, 11625 X 2 = 23250\n",
    "  ### 558 appear only once 558 X 1 = 558 \n",
    "#### VUnique Count & Match to Non-null Rows:   the  values equal to = df[“reserve_no”].unique()  12 ,190\u000b",
    "\n",
    "The total number of unique reserve_no values is 13,835. \n",
    "\u000b",
    "\n",
    "\n",
    "\n"
   ]
  },
  {
   "cell_type": "markdown",
   "id": "b42b9b80",
   "metadata": {},
   "source": [
    "## 3,4, 14,15 time and Date Handling\n",
    "##### regvalidfrom \u000b",
    "\n",
    "This column contains 1,692 missing values this is tough to deal.\n",
    "##### Regvalidfrom, regvalidto, from date, and to date  Handling:\u000b",
    "\n",
    "These columns have no missing values but are also stored as object types. To enable proper date comparisons or calculations, they should be converted to datetime format.\n",
    "\n"
   ]
  },
  {
   "cell_type": "code",
   "execution_count": null,
   "id": "860b28d4",
   "metadata": {},
   "outputs": [],
   "source": []
  },
  {
   "cell_type": "markdown",
   "id": "f68a3479",
   "metadata": {},
   "source": [
    " ## 5 makerName"
   ]
  },
  {
   "cell_type": "code",
   "execution_count": 92,
   "id": "b6d67913",
   "metadata": {},
   "outputs": [
    {
     "name": "stdout",
     "output_type": "stream",
     "text": [
      "makerName\n",
      "HONDA MOTORCYCLE&SCOOTER(I)P L            62617\n",
      "MARUTI SUZUKI INDIA LTD.,                 38653\n",
      "BAJAJ AUTO LTD                            35937\n",
      "HERO MOTOCORP LTD                         28550\n",
      "TVS MOTOR COMPANY LTD                     24820\n",
      "                                          ...  \n",
      "WASIM MEERA ENGINEERING WORKS                 1\n",
      "M/S VENKATARAMANA AGRO AGENCY,METPALLY        1\n",
      "NEW SRI SHIVA ENGG WORKS MBNR                 1\n",
      "M/S SRI RAMA AGRO INDUSTRIES                  1\n",
      "SRI SAI LAXMI TULJA ENGG WORKS                1\n",
      "Name: count, Length: 748, dtype: int64\n"
     ]
    }
   ],
   "source": [
    "print(df[\"makerName\"].value_counts())"
   ]
  },
  {
   "cell_type": "code",
   "execution_count": 93,
   "id": "7ab71722",
   "metadata": {},
   "outputs": [
    {
     "name": "stdout",
     "output_type": "stream",
     "text": [
      "748\n"
     ]
    }
   ],
   "source": [
    "print(df[\"makerName\"].nunique())"
   ]
  },
  {
   "cell_type": "markdown",
   "id": "97bb3917",
   "metadata": {},
   "source": [
    "## makerName\n",
    "\n",
    "- **makerName** represents the manufacturer of each registered vehicle.  \n",
    "- There are **no missing values** in this column.\n",
    "- There are **778 unique maker names** available.\n",
    "\n",
    "### Top 5 Dominant Manufacturers\n",
    "\n",
    "| Manufacturer                        | Count    |\n",
    "|--------------------------------------|----------|\n",
    "| ONDA MOTORCYCLE & SCOOTER (I) P L    | 62,617   |\n",
    "| MARUTI SUZUKI INDIA LTD.             | 38,653   |\n",
    "| BAJAJ AUTO LTD                       | 35,937   |\n",
    "| HERO MOTOCORP LTD                    | 28,550   |\n",
    "| TVS MOTOR COMPANY LTD                 | 24,820   |\n",
    "\n",
    "---\n",
    "\n",
    "### Bottom 3 Rare Entries in modelDesc\n",
    "\n",
    "| Model Description                                 | Count |\n",
    "|---------------------------------------------------|-------|\n",
    "| BMW- M340I LCI BSVI-PH2                           | 1     |\n",
    "| LPT 407 EX/34 BSIV FFC TC CAB LB PF               | 1     |\n",
    "| CROP TIGER 40W M460 SELF PROPELLED CH BSIV        | 1     |\n",
    "\n",
    "---\n",
    "\n",
    "### Skewness Observation\n",
    "\n",
    "The dataset is **highly skewed** in both `makerName` and `modelDesc`. A few manufacturers and models dominate the majority of the dataset (e.g., ONDA and ACTIVA), while thousands of other models appear only once. This skew may be due to regional vehicle popularity or high sales concentration of specific manufacturers/models in the area."
   ]
  },
  {
   "cell_type": "markdown",
   "id": "91d44930",
   "metadata": {},
   "source": [
    "## 6 modelDesc"
   ]
  },
  {
   "cell_type": "code",
   "execution_count": 94,
   "id": "108b6c24",
   "metadata": {},
   "outputs": [
    {
     "data": {
      "text/plain": [
       "modelDesc\n",
       "ACTIVA-DLX BSVI-PH2                           11560\n",
       "PASSION + I 3S DRS BSVI-PH2                    5484\n",
       "UNICORN BSVI-PH2                               5083\n",
       "ACTIVA 125 DISC BSVI-PH2                       4857\n",
       "SHINE 125 DRUM BSVI-PH2                        3966\n",
       "                                              ...  \n",
       "BMW- M340I LCI BSVI-PH2                           1\n",
       "6055 F24- (BRANDNAME-FARMTRAC) BSIIIA             1\n",
       "LPT 407 EX/34 BSIV FFC TC CAB LB PF               1\n",
       "CROP TIGER 40W M460 SELF PROPELLED CH BSIV        1\n",
       "MARUTI S-PRESSO VXI (O) 1L ISS AGS BSVI           1\n",
       "Name: count, Length: 10029, dtype: int64"
      ]
     },
     "execution_count": 94,
     "metadata": {},
     "output_type": "execute_result"
    }
   ],
   "source": [
    "df[\"modelDesc\"].value_counts()"
   ]
  },
  {
   "cell_type": "code",
   "execution_count": 95,
   "id": "8adb94e4",
   "metadata": {},
   "outputs": [
    {
     "data": {
      "text/plain": [
       "10029"
      ]
     },
     "execution_count": 95,
     "metadata": {},
     "output_type": "execute_result"
    }
   ],
   "source": [
    "df[\"modelDesc\"].nunique()"
   ]
  },
  {
   "cell_type": "markdown",
   "id": "82f4e887",
   "metadata": {},
   "source": [
    "### modelDesc \n",
    "### The modelDesc column describes the specific vehicle models,.\n",
    "### It contains no missing values   . And  798 unique \n",
    "### Popular models such as ACTIVA-DLX BSVI-PH2 (11,560 records) dominate the dataset.\n",
    "### Rare models like MW- M340I LCI BSVI-PH2, 6055 F24- (BRANDNAME-FARMTRAC) BSIIIA, LPT 407 EX/34 BSIV FFC TC CAB LB ### PF, and CROP TIGER 40W M460 SELF PROPELLED CH BSIV appear only once, \n",
    "\n",
    "\n"
   ]
  },
  {
   "cell_type": "markdown",
   "id": "8a27529e",
   "metadata": {},
   "source": [
    " ##  7 bodyType"
   ]
  },
  {
   "cell_type": "code",
   "execution_count": 96,
   "id": "c1127f34",
   "metadata": {},
   "outputs": [
    {
     "data": {
      "text/plain": [
       "bodyType\n",
       "Solo                           181842\n",
       "Sedan                           43885\n",
       "Open                            36500\n",
       "HATCHBACK                       35328\n",
       "Saloon                          13386\n",
       "Station Wagon                    6978\n",
       "Monocoque                        6686\n",
       "Hard Top                         5352\n",
       "Hackney                          4384\n",
       "Closed                           3101\n",
       "TIPPER                           1755\n",
       "TANKER                            945\n",
       "COMBINED HARVESTER                784\n",
       "Soft Top                          486\n",
       "Coupe                             391\n",
       "CONCRETE MIXER                    159\n",
       "TRANSITMIXER                      154\n",
       "Van                               146\n",
       "Crane                             109\n",
       "CAGE                              100\n",
       "Tourer                             90\n",
       "MOBILE CRANE                       89\n",
       "Compressor Mounted                 87\n",
       "PLATFORM                           85\n",
       "Jeep                               74\n",
       "Steel Body                         57\n",
       "CHASSIS                            49\n",
       "Equipment Mounted Vehicle          27\n",
       "Pickup                             26\n",
       "TROOP CARRIER                      24\n",
       "RECOVERYVEHICLE                    16\n",
       "Unitized                           10\n",
       "Modular                             8\n",
       "INA                                 4\n",
       "NOTCHBLACK                          4\n",
       "N.C.Shell                           4\n",
       "Sky Lift                            4\n",
       "MINIDOR                             2\n",
       "Truck mounted concrete pump         2\n",
       "Name: count, dtype: int64"
      ]
     },
     "execution_count": 96,
     "metadata": {},
     "output_type": "execute_result"
    }
   ],
   "source": [
    "df[\"bodyType\"].value_counts()"
   ]
  },
  {
   "cell_type": "code",
   "execution_count": 97,
   "id": "15876a52",
   "metadata": {},
   "outputs": [
    {
     "data": {
      "text/plain": [
       "39"
      ]
     },
     "execution_count": 97,
     "metadata": {},
     "output_type": "execute_result"
    }
   ],
   "source": [
    "df[\"bodyType\"].nunique()\n"
   ]
  },
  {
   "cell_type": "markdown",
   "id": "5febcd19",
   "metadata": {},
   "source": [
    "### BodyType\n",
    " ### The bodyType of the vehicle's body. It helps classify vehicles such as Solo, Sedan, HATCHBACK, Van, etc.\n",
    "  #### There are no missing values in this column. And  39 unique vehicle body types present in the dataset.\n",
    "### Top 5 Most Frequent Body Types:\n",
    "#### Solo – 181,842,   Sedan – 43,885  ,Open – 36,500,  HATCHBACK – 35,328 ,Saloon – 13,386\n",
    "#### Skewness and Handling:\n",
    "#### The data is highly skewed toward a few categories like 'Solo' and 'Sedan', which dominate the distribution.\n",
    "\n",
    "\n"
   ]
  },
  {
   "cell_type": "markdown",
   "id": "1896296b",
   "metadata": {},
   "source": [
    "## 8 cc cybic centimeters"
   ]
  },
  {
   "cell_type": "code",
   "execution_count": null,
   "id": "3243e49c",
   "metadata": {},
   "outputs": [],
   "source": []
  },
  {
   "cell_type": "code",
   "execution_count": null,
   "id": "ef868ef7",
   "metadata": {},
   "outputs": [],
   "source": []
  },
  {
   "cell_type": "code",
   "execution_count": 98,
   "id": "f7584690",
   "metadata": {},
   "outputs": [
    {
     "data": {
      "text/plain": [
       "cc\n",
       "124.0     36870\n",
       "97.0      23231\n",
       "1197.0    22520\n",
       "110.0     22085\n",
       "125.0     21331\n",
       "          ...  \n",
       "147.5         1\n",
       "3387.0        1\n",
       "3295.0        1\n",
       "3023.0        1\n",
       "2878.0        1\n",
       "Name: count, Length: 588, dtype: int64"
      ]
     },
     "execution_count": 98,
     "metadata": {},
     "output_type": "execute_result"
    }
   ],
   "source": [
    "df[\"cc\"].value_counts()"
   ]
  },
  {
   "cell_type": "markdown",
   "id": "2b931a4e",
   "metadata": {},
   "source": [
    "#### Cc cubic Centiemeters\n",
    "#### The cc column represents the engine displacement (in cubic centimeters) \n",
    "#### It has no missing values, which  and 588   unique categories.\n",
    "#### Frequently occurring values like 124.0 cc, 97.0 cc, and 1197.0 cc suggest a dominance of small-engine vehicles, such as scooters and compact cars.\n",
    "#### Rare engine capacities like 147.5 cc, 3387.0 cc, 3295.0 cc, and 3023.0 cc appear only once, indicating a wide variety of vehicle types, including possibly high-performance or commercial vehicles\n"
   ]
  },
  {
   "cell_type": "markdown",
   "id": "060aecec",
   "metadata": {},
   "source": [
    "## 9 Cylinder Column\n"
   ]
  },
  {
   "cell_type": "code",
   "execution_count": 99,
   "id": "6a69d658",
   "metadata": {},
   "outputs": [
    {
     "data": {
      "text/plain": [
       "cylinder\n",
       "1       185720\n",
       "4        88853\n",
       "3        40469\n",
       "0        17168\n",
       "6         6543\n",
       "2         4058\n",
       "2979       221\n",
       "5           72\n",
       "8           26\n",
       "10           4\n",
       "12           3\n",
       "Name: count, dtype: int64"
      ]
     },
     "execution_count": 99,
     "metadata": {},
     "output_type": "execute_result"
    }
   ],
   "source": [
    "df[\"cylinder\"].value_counts()"
   ]
  },
  {
   "cell_type": "code",
   "execution_count": 100,
   "id": "fe200967",
   "metadata": {},
   "outputs": [
    {
     "data": {
      "text/plain": [
       "11"
      ]
     },
     "execution_count": 100,
     "metadata": {},
     "output_type": "execute_result"
    }
   ],
   "source": [
    "df[\"cylinder\"].nunique()"
   ]
  },
  {
   "cell_type": "markdown",
   "id": "1f57b035",
   "metadata": {},
   "source": [
    "\n",
    "#### The cylinder  represent number of cylinder available to the vehicles  there is no missing values and 13  unique values\n",
    "#### 1 cylinder: 185,720 Two-wheelers)\n",
    "#### 4 cylinders: 88,853 (Small cars)\n",
    "#### 3 cylinders: 40,469( Compact vehicles)\n",
    "##### Suspicious value: 2979 (221 times) – likely a data entry error\n",
    "6, 8, 10, 12 cylinders appear in low frequency\n",
    "\n"
   ]
  },
  {
   "cell_type": "markdown",
   "id": "6c1f1b3f",
   "metadata": {},
   "source": [
    "# 8 fuel"
   ]
  },
  {
   "cell_type": "markdown",
   "id": "a150e3ab",
   "metadata": {},
   "source": [
    "df[\"fuel\"].value_counts()"
   ]
  },
  {
   "cell_type": "code",
   "execution_count": 101,
   "id": "58bd76c3",
   "metadata": {},
   "outputs": [
    {
     "data": {
      "text/plain": [
       "fuel\n",
       "PETROL             231422\n",
       "DIESEL              81638\n",
       "BATTERY             12709\n",
       "CNG PETROL           7156\n",
       "PETROL LPG           5243\n",
       "-1                    439\n",
       "CNG                   374\n",
       "DIESEL ELECTRIC       195\n",
       "PETROL ELECTRIC       135\n",
       "LPG                    32\n",
       "0                      10\n",
       "petrol                  4\n",
       "CNG DIESEL              2\n",
       "Name: count, dtype: int64"
      ]
     },
     "execution_count": 101,
     "metadata": {},
     "output_type": "execute_result"
    }
   ],
   "source": [
    "df[\"fuel\"].value_counts()"
   ]
  },
  {
   "cell_type": "code",
   "execution_count": 102,
   "id": "a2587adc",
   "metadata": {},
   "outputs": [
    {
     "data": {
      "text/plain": [
       "13"
      ]
     },
     "execution_count": 102,
     "metadata": {},
     "output_type": "execute_result"
    }
   ],
   "source": [
    "df[\"fuel\"].nunique()"
   ]
  },
  {
   "cell_type": "markdown",
   "id": "a6f439b2",
   "metadata": {},
   "source": [
    "fuel column \n",
    "###  It has 3,778 missing values and  13 unique valid categories.\n",
    "### and includes invalid entries like -1, 0, and lowercase petrol.\n",
    "### Top 3 fuels: PETROL (231,422), DIESEL (81,638), BATTERY (12,709) — show strong data skew.\n",
    "### Bottom 3 fuels: CNG DIESEL (2), petrol (4), 0 (10) — indicate typos or rare/invalid data. And -1 439 \n",
    "\n",
    "### Missing and invalid entries can be imputed using cc, cylinder, hp, seatCapacity, and modelDesc.\n"
   ]
  },
  {
   "cell_type": "markdown",
   "id": "563a4373",
   "metadata": {},
   "source": []
  },
  {
   "cell_type": "markdown",
   "id": "3826d781",
   "metadata": {},
   "source": [
    "# hp HorsePower"
   ]
  },
  {
   "cell_type": "code",
   "execution_count": 103,
   "id": "c1e15c55",
   "metadata": {},
   "outputs": [
    {
     "data": {
      "text/plain": [
       "1055"
      ]
     },
     "execution_count": 103,
     "metadata": {},
     "output_type": "execute_result"
    }
   ],
   "source": [
    "df[\"hp\"].nunique()"
   ]
  },
  {
   "cell_type": "code",
   "execution_count": 104,
   "id": "f9bc9298",
   "metadata": {},
   "outputs": [
    {
     "data": {
      "text/plain": [
       "hp\n",
       "7.91      17754\n",
       "7.74      13936\n",
       "8.58      10111\n",
       "88.51      9968\n",
       "8.19       8446\n",
       "          ...  \n",
       "33.80         2\n",
       "570.00        1\n",
       "59.12         1\n",
       "56.10         1\n",
       "331.00        1\n",
       "Name: count, Length: 1055, dtype: int64"
      ]
     },
     "execution_count": 104,
     "metadata": {},
     "output_type": "execute_result"
    }
   ],
   "source": [
    "df[\"hp\"].value_counts()"
   ]
  },
  {
   "cell_type": "markdown",
   "id": "1af54c6c",
   "metadata": {},
   "source": [
    "### hp: horsepower of the vehicle — a measure of its engine power.\n",
    "### :There are no missing values in the hp column.\n",
    "### Although hp is a real-valued numerical feature, it contains 1,055 unique values, which is relatively high but still countable.\n",
    "### Horse power top Consideration:7.91 -  17754 \n",
    "\n",
    "### 7.74  - 13936 \n",
    "### 8.58  - 10111 \n",
    "## 88.51 - 9968\n",
    "###  8.19  -8446\n",
    "####  The horse power is increasing the price also increased the customer are low\n"
   ]
  },
  {
   "cell_type": "markdown",
   "id": "9b950f53",
   "metadata": {},
   "source": [
    "# seatCapcity"
   ]
  },
  {
   "cell_type": "code",
   "execution_count": 105,
   "id": "e7c3240e",
   "metadata": {},
   "outputs": [
    {
     "data": {
      "text/plain": [
       "57"
      ]
     },
     "execution_count": 105,
     "metadata": {},
     "output_type": "execute_result"
    }
   ],
   "source": [
    "df[\"seatCapacity\"].nunique()"
   ]
  },
  {
   "cell_type": "code",
   "execution_count": 106,
   "id": "f4e6808e",
   "metadata": {},
   "outputs": [
    {
     "data": {
      "text/plain": [
       "seatCapacity\n",
       "2     191919\n",
       "5      85155\n",
       "1      20745\n",
       "7      13164\n",
       "4      12523\n",
       "3       8653\n",
       "0       4226\n",
       "8       2501\n",
       "6       1386\n",
       "10       638\n",
       "41       278\n",
       "12       178\n",
       "36       164\n",
       "9        153\n",
       "13       150\n",
       "51       104\n",
       "57        88\n",
       "42        83\n",
       "47        77\n",
       "56        77\n",
       "11        76\n",
       "58        75\n",
       "37        62\n",
       "40        61\n",
       "23        59\n",
       "50        50\n",
       "32        39\n",
       "33        34\n",
       "24        30\n",
       "53        30\n",
       "22        29\n",
       "43        28\n",
       "31        24\n",
       "25        24\n",
       "14        22\n",
       "60        22\n",
       "29        21\n",
       "39        20\n",
       "28        18\n",
       "35        16\n",
       "45        15\n",
       "48        14\n",
       "49        13\n",
       "18        13\n",
       "20        12\n",
       "27        12\n",
       "21        11\n",
       "44         9\n",
       "26         8\n",
       "17         6\n",
       "52         6\n",
       "55         4\n",
       "19         4\n",
       "16         2\n",
       "46         2\n",
       "61         2\n",
       "38         2\n",
       "Name: count, dtype: int64"
      ]
     },
     "execution_count": 106,
     "metadata": {},
     "output_type": "execute_result"
    }
   ],
   "source": [
    "df[\"seatCapacity\"].value_counts()"
   ]
  },
  {
   "cell_type": "markdown",
   "id": "83ba2552",
   "metadata": {},
   "source": [
    "### Seat Capacity Meaning:\u000b",
    "\n",
    "The seatCapacity column refers to the number of seating positions in a vehicle, including the driver.\n",
    "### Missing Values:\u000b",
    "\n",
    "There are no missing values in this column. And 57 unique values\n",
    "### Top 5 Most Common Seat Capacities:\n",
    "### 2 seats → 191,919 vehicles\n",
    "### 5 seats → 85,155 vehicles\n",
    "## 1 seat → 20,745 vehicles\n",
    "### 7 seats → 13,164 vehiclmes\n",
    "### 4 seats → 12,523 vehicles\n",
    "### Bottom 2 Least Common Seat Capacities:\n",
    "### 61 seats → 2 vehicles\n",
    "### 38 seats → 2 vehicles\n",
    "### (others with similar low counts)\n",
    "\n"
   ]
  },
  {
   "cell_type": "code",
   "execution_count": 107,
   "id": "a9dfd96f",
   "metadata": {},
   "outputs": [
    {
     "data": {
      "text/plain": [
       "56"
      ]
     },
     "execution_count": 107,
     "metadata": {},
     "output_type": "execute_result"
    }
   ],
   "source": [
    "df[\"OfficeCd\"].nunique()"
   ]
  },
  {
   "cell_type": "code",
   "execution_count": 108,
   "id": "4dc7b337",
   "metadata": {},
   "outputs": [
    {
     "data": {
      "text/plain": [
       "OfficeCd\n",
       "RTA RANGAREDDY              28675\n",
       "RTA MEDCHAL                 22680\n",
       "RTA IBRAHIMPATNAM           22148\n",
       "RTA UPPAL                   20818\n",
       "RTA-HYDERABAD-CZ            19897\n",
       "RTA-HYDERABAD-SZ            11566\n",
       "RTA-HYDERABAD-NZ            11405\n",
       "RTA-HYDERABAD-WZ            11050\n",
       "RTA-HYDERABAD-EZ             9286\n",
       "RTA NALGONDA                 9161\n",
       "RTA NIZAMABAD                8357\n",
       "UNIT OFFICE KUKATPALLY       8302\n",
       "RTA KHAMMAM                  7882\n",
       "RTA KARIMNAGAR               7858\n",
       "RTA SIDDIPET                 7311\n",
       "RTA MAHABOOBNAGAR            6831\n",
       "RTA YADADRI                  6341\n",
       "RTA SANGAREDDY               6267\n",
       "RTA HANUMAKONDA              6199\n",
       "UNIT OFFICE PATANCHERUVU     6139\n",
       "RTA KAMAREDDY                6122\n",
       "RTA WARANGAL                 5284\n",
       "RTA SURYAPET                 5265\n",
       "RTA MANCHERIAL               4909\n",
       "RTA BHADRADRI                4520\n",
       "UNIT OFFICE MIRYALAGUDA      4381\n",
       "RTA MEDAK                    4340\n",
       "RTA ADILABAD                 3982\n",
       "RTA NIRMAL                   3761\n",
       "RTA JAGITYAL                 3740\n",
       "RTA RAJANNA                  3728\n",
       "RTA PEDDAPALLI               3714\n",
       "RTA MAHABUBABAD              3465\n",
       "RTA NARAYANPET               3442\n",
       "RTA NAGARKURNOOL             3424\n",
       "RTA JOGULAMBA                3414\n",
       "RTA JANGOAN                  3133\n",
       "RTA VIKARABAD                2904\n",
       "RTA WANAPARTHY               2664\n",
       "UNIT OFFICE PARGI            2664\n",
       "UNIT OFFICE ZAHIRABAD        2517\n",
       "UNIT OFFICE KODAD            2459\n",
       "RTA KOMRAMBHEEM              2418\n",
       "UNIT OFFICE ARMOOR           2369\n",
       "UNIT OFFICE SHADNAGAR        2355\n",
       "RTA JAYASHANKAR              1906\n",
       "UNIT OFFICE KORUTLA          1786\n",
       "UNIT OFFICE RAMAGUNDAM       1533\n",
       "UNIT OFFICE BHODAN           1482\n",
       "UNIT OFFICE BHADRACHALAM     1361\n",
       "UNIT OFFICE HUZURABAD        1204\n",
       "UNIT OFFICE SATTUPALLI       1201\n",
       "RTA MULUGU                   1174\n",
       "UNIT OFFICE WYRA             1163\n",
       "UNIT OFFICE KALWAKURTHY       754\n",
       "UNIT OFFICE PEBBAIR           426\n",
       "Name: count, dtype: int64"
      ]
     },
     "execution_count": 108,
     "metadata": {},
     "output_type": "execute_result"
    }
   ],
   "source": [
    "df[\"OfficeCd\"].value_counts()"
   ]
  },
  {
   "cell_type": "markdown",
   "id": "a66f7e4a",
   "metadata": {},
   "source": [
    "### Office Code Standardization: \n",
    "\n",
    "### The officeCd column contains a prefix \"RTA\" in many entries; to ensure uniformity, we remove this prefix to retain only the actual office name (e.g., \"SIDDIPET\" instead of \"RTA SIDDIPET\").\n",
    "## there are unique 56 “RTA” offices data is available and there is no missing values\n",
    ".\n"
   ]
  },
  {
   "cell_type": "markdown",
   "id": "8a1cfe0b",
   "metadata": {},
   "source": [
    "# sumamry "
   ]
  },
  {
   "cell_type": "markdown",
   "id": "e6fa08f3",
   "metadata": {},
   "source": [
    "Data Exploration & Initial Assessment\n",
    "\n",
    "### Data Volume: The dataset includes 343,137 vehicle records with detailed  16 features like registration, fuel type, and vehicle specifications.\n",
    "### Datetime Conversion: Object-type columns like regvalidfrom, regvalidto, fromDate, and toDate were successfully converted to datetime format.\n",
    "### Vehicle Makers & Models: ONDA, MARUTI, and BAJAJ are top manufacturers; ACTIVA-DLX BSVI-PH2 is the most common vehicle model.\n",
    "### Fuel Type Issues: 13 fuel types were found, including invalid values (-1, 0, lowercase petrol), and PETROL dominates usage.\n",
    "### Cylinders & cc : Vehicles commonly have 1–4 cylinders, with popular cc values like 124.0, 97.0, and 1197.0, indicating a large number of two-wheelers.\n",
    "### Body Type Variety: 39 body types were found, with Solo, Sedan, and Open dominating; some rare entries appeared only once or twice.\n",
    "\n"
   ]
  },
  {
   "cell_type": "markdown",
   "id": "4986880b-e3ee-4607-82c6-b1970bd4ad22",
   "metadata": {},
   "source": [
    "# phases 2 project"
   ]
  },
  {
   "cell_type": "code",
   "execution_count": 109,
   "id": "02deac51-ef64-487d-9587-c77a7d7bd7a8",
   "metadata": {},
   "outputs": [
    {
     "name": "stdout",
     "output_type": "stream",
     "text": [
      "<class 'pandas.core.frame.DataFrame'>\n",
      "RangeIndex: 343137 entries, 0 to 343136\n",
      "Data columns (total 16 columns):\n",
      " #   Column          Non-Null Count   Dtype  \n",
      "---  ------          --------------   -----  \n",
      " 0   slno            343137 non-null  int64  \n",
      " 1   registrationNo  341450 non-null  object \n",
      " 2   reserve_no      23835 non-null   object \n",
      " 3   regvalidfrom    341445 non-null  object \n",
      " 4   regvalidto      343137 non-null  object \n",
      " 5   makerName       343137 non-null  object \n",
      " 6   modelDesc       343137 non-null  object \n",
      " 7   bodyType        343133 non-null  object \n",
      " 8   cc              343137 non-null  float64\n",
      " 9   cylinder        343137 non-null  int64  \n",
      " 10  fuel            339359 non-null  object \n",
      " 11  hp              343137 non-null  float64\n",
      " 12  seatCapacity    343137 non-null  int64  \n",
      " 13  OfficeCd        343137 non-null  object \n",
      " 14  fromdate        343137 non-null  object \n",
      " 15  todate          343137 non-null  object \n",
      "dtypes: float64(2), int64(3), object(11)\n",
      "memory usage: 41.9+ MB\n"
     ]
    }
   ],
   "source": [
    "df.info()"
   ]
  },
  {
   "cell_type": "code",
   "execution_count": 110,
   "id": "4145b6b0-12ef-4d17-b37b-d5ac613227a9",
   "metadata": {},
   "outputs": [],
   "source": [
    "mask = df[\"registrationNo\"].isna() & df[\"reserve_no\"].notna()\n",
    "df.loc[mask, \"registrationNo\"] = df.loc[mask, \"reserve_no\"]\n"
   ]
  },
  {
   "cell_type": "markdown",
   "id": "014a9314-66e5-4364-893b-57127ae90a72",
   "metadata": {},
   "source": [
    "#### so it is fiilling missing values and satisfy above criteria"
   ]
  },
  {
   "cell_type": "code",
   "execution_count": 111,
   "id": "c94aa9fd-1260-4909-9409-516c69b3a868",
   "metadata": {},
   "outputs": [
    {
     "data": {
      "text/plain": [
       "slno                   0\n",
       "registrationNo         1\n",
       "reserve_no        319302\n",
       "regvalidfrom        1692\n",
       "regvalidto             0\n",
       "makerName              0\n",
       "modelDesc              0\n",
       "bodyType               4\n",
       "cc                     0\n",
       "cylinder               0\n",
       "fuel                3778\n",
       "hp                     0\n",
       "seatCapacity           0\n",
       "OfficeCd               0\n",
       "fromdate               0\n",
       "todate                 0\n",
       "dtype: int64"
      ]
     },
     "execution_count": 111,
     "metadata": {},
     "output_type": "execute_result"
    }
   ],
   "source": [
    "df.isna().sum()"
   ]
  },
  {
   "cell_type": "code",
   "execution_count": 118,
   "id": "f161e0f7-7998-44b3-8ace-69397635614a",
   "metadata": {},
   "outputs": [
    {
     "ename": "SyntaxError",
     "evalue": "expected '(' (2238748230.py, line 1)",
     "output_type": "error",
     "traceback": [
      "  \u001b[36mCell\u001b[39m\u001b[36m \u001b[39m\u001b[32mIn[118]\u001b[39m\u001b[32m, line 1\u001b[39m\n\u001b[31m    \u001b[39m\u001b[31mdef body type():\u001b[39m\n             ^\n\u001b[31mSyntaxError\u001b[39m\u001b[31m:\u001b[39m expected '('\n"
     ]
    }
   ],
   "source": [
    "def body type():\n"
   ]
  },
  {
   "cell_type": "markdown",
   "id": "9d727f4b-7207-4900-b5f6-315449dc32f0",
   "metadata": {},
   "source": [
    "#### no need fill of the missing values   reserve_no"
   ]
  },
  {
   "cell_type": "code",
   "execution_count": 1,
   "id": "4aac599b-7928-497a-b39b-80f2225601e7",
   "metadata": {},
   "outputs": [],
   "source": [
    "# filling body type"
   ]
  },
  {
   "cell_type": "code",
   "execution_count": 113,
   "id": "63f7fcab-7e08-444f-9a27-418f0639cc8c",
   "metadata": {},
   "outputs": [],
   "source": [
    "def fill_missing_body_type(row, df):\n",
    "    if pd.isna(row[\"bodyType\"]):\n",
    "        # Find similar rows\n",
    "        mask = (\n",
    "            (df[\"seatCapacity\"] == row[\"seatCapacity\"]) &\n",
    "            (df[\"hp\"] == row[\"hp\"]) &\n",
    "            (df[\"cylinder\"] == row[\"cylinder\"]) &\n",
    "            (df[\"bodyType\"].notna())\n",
    "        )\n",
    "        candidates = df.loc[mask, \"bodyType\"]\n",
    "        if not candidates.empty:\n",
    "            return candidates.mode().iloc[0]  # Use the most common bodyType\n",
    "        else:\n",
    "            return row[\"bodyType\"]  # Still NaN\n",
    "    else:\n",
    "        return row[\"bodyType\"]  # Already filled\n",
    "\n",
    "# Apply it to the DataFrame\n",
    "df[\"bodyType\"] = df.apply(lambda row: fill_missing_body_type(row, df), axis=1)\n"
   ]
  },
  {
   "cell_type": "code",
   "execution_count": 114,
   "id": "342adf3c-34ad-481b-883c-f932224d47d9",
   "metadata": {},
   "outputs": [],
   "source": [
    "def fill_missing_fuel_type(row, df):\n",
    "    if pd.isna(row[\"fuel\"]):\n",
    "        # Find similar rows\n",
    "        mask = (\n",
    "            (df[\"seatCapacity\"] == row[\"seatCapacity\"]) &\n",
    "            (df[\"hp\"] == row[\"hp\"]) &\n",
    "            (df[\"cylinder\"] == row[\"cylinder\"]) &\n",
    "            (df[\"fuel\"].notna())\n",
    "        )\n",
    "        candidates = df.loc[mask, \"fuel\"]\n",
    "        if not candidates.empty:\n",
    "            return candidates.mode().iloc[0]  # Use the most common fuel type\n",
    "        else:\n",
    "            return row[\"fuel\"]  # Still NaN\n",
    "    else:\n",
    "        return row[\"fuel\"]  # Already filled\n",
    "\n",
    "# Apply it to the DataFrame\n",
    "df[\"fuel\"] = df.apply(lambda row: fill_missing_fuel_type(row, df), axis=1)\n"
   ]
  },
  {
   "cell_type": "markdown",
   "id": "964cbca0-0389-4582-a55b-f8d1c5fb7654",
   "metadata": {},
   "source": [
    "## outlier duplicates  treatment "
   ]
  },
  {
   "cell_type": "code",
   "execution_count": 115,
   "id": "8c5a23c3-34bd-4dd6-a5f1-3e04c582cec8",
   "metadata": {},
   "outputs": [],
   "source": [
    "df.drop_duplicates(subset=[\"slno\"],keep =\"first\", inplace = True)"
   ]
  },
  {
   "cell_type": "code",
   "execution_count": 116,
   "id": "8116da3a-938d-40f0-8b63-4ebb47d45e50",
   "metadata": {},
   "outputs": [],
   "source": [
    "df.drop_duplicates(subset=[\"registrationNo\"],keep= \"first\",inplace = True)"
   ]
  },
  {
   "cell_type": "code",
   "execution_count": 117,
   "id": "772651ff-f8c1-408c-9eaf-de11ebf72ecb",
   "metadata": {},
   "outputs": [
    {
     "data": {
      "text/plain": [
       "174111"
      ]
     },
     "execution_count": 117,
     "metadata": {},
     "output_type": "execute_result"
    }
   ],
   "source": [
    "len(df)"
   ]
  },
  {
   "cell_type": "markdown",
   "id": "fe976ea2-363c-4055-a5e1-c767bbf7bb54",
   "metadata": {},
   "source": [
    "### cylinder columns  outlier are un known values cylinder count =2979"
   ]
  },
  {
   "cell_type": "code",
   "execution_count": 57,
   "id": "3b9f3b79-66a9-45fb-bff0-da241e996c6f",
   "metadata": {},
   "outputs": [],
   "source": [
    "x = df[\"cylinder\"] == 2979\n",
    "df.drop(index=df[x].index, inplace=True)\n"
   ]
  },
  {
   "cell_type": "code",
   "execution_count": 58,
   "id": "957d412b-e61a-4bfa-8f8f-11f6841663e6",
   "metadata": {},
   "outputs": [
    {
     "data": {
      "text/plain": [
       "cylinder\n",
       "1     94463\n",
       "4     44946\n",
       "3     20446\n",
       "0      8681\n",
       "6      3342\n",
       "2      2066\n",
       "5        36\n",
       "8        13\n",
       "12        2\n",
       "10        2\n",
       "Name: count, dtype: int64"
      ]
     },
     "execution_count": 58,
     "metadata": {},
     "output_type": "execute_result"
    }
   ],
   "source": [
    "df[\"cylinder\"].value_counts()"
   ]
  },
  {
   "cell_type": "code",
   "execution_count": null,
   "id": "49a4ac3f-65d1-43a8-a3e5-57f90ac8b5a1",
   "metadata": {},
   "outputs": [],
   "source": [
    "df.info()"
   ]
  },
  {
   "cell_type": "code",
   "execution_count": 127,
   "id": "a07425b0-6d58-4528-a615-191d10a28249",
   "metadata": {},
   "outputs": [],
   "source": [
    "import pandas as pd\n",
    "\n",
    "# List of columns to convert\n",
    "date_columns = [\"regvalidfrom\", \"fromdate\", \"todate\", \"regvalidto\"]\n",
    "\n",
    "# Convert each column to datetime with format='mixed' and error handling\n",
    "for col in date_columns:\n",
    "    df[col] = pd.to_datetime(df[col], format='mixed', dayfirst=True)\n"
   ]
  },
  {
   "cell_type": "code",
   "execution_count": 128,
   "id": "10149d0c-8c96-4823-970f-8662a04e99e7",
   "metadata": {},
   "outputs": [
    {
     "name": "stdout",
     "output_type": "stream",
     "text": [
      "<class 'pandas.core.frame.DataFrame'>\n",
      "Index: 174111 entries, 0 to 343136\n",
      "Data columns (total 16 columns):\n",
      " #   Column          Non-Null Count   Dtype                    \n",
      "---  ------          --------------   -----                    \n",
      " 0   slno            174111 non-null  int64                    \n",
      " 1   registrationNo  174110 non-null  object                   \n",
      " 2   reserve_no      11359 non-null   object                   \n",
      " 3   regvalidfrom    174055 non-null  datetime64[ns]           \n",
      " 4   regvalidto      174111 non-null  datetime64[ns, UTC+05:30]\n",
      " 5   makerName       174111 non-null  object                   \n",
      " 6   modelDesc       174111 non-null  object                   \n",
      " 7   bodyType        174111 non-null  object                   \n",
      " 8   cc              174111 non-null  float64                  \n",
      " 9   cylinder        174111 non-null  int64                    \n",
      " 10  fuel            174111 non-null  object                   \n",
      " 11  hp              174111 non-null  float64                  \n",
      " 12  seatCapacity    174111 non-null  int64                    \n",
      " 13  OfficeCd        174111 non-null  object                   \n",
      " 14  fromdate        174111 non-null  datetime64[ns]           \n",
      " 15  todate          174111 non-null  datetime64[ns]           \n",
      "dtypes: datetime64[ns, UTC+05:30](1), datetime64[ns](3), float64(2), int64(3), object(7)\n",
      "memory usage: 22.6+ MB\n"
     ]
    }
   ],
   "source": [
    "df.info()"
   ]
  },
  {
   "cell_type": "code",
   "execution_count": 121,
   "id": "bcfab5e7-e35b-4aa3-a276-ed05f444213c",
   "metadata": {},
   "outputs": [
    {
     "data": {
      "text/html": [
       "<div>\n",
       "<style scoped>\n",
       "    .dataframe tbody tr th:only-of-type {\n",
       "        vertical-align: middle;\n",
       "    }\n",
       "\n",
       "    .dataframe tbody tr th {\n",
       "        vertical-align: top;\n",
       "    }\n",
       "\n",
       "    .dataframe thead th {\n",
       "        text-align: right;\n",
       "    }\n",
       "</style>\n",
       "<table border=\"1\" class=\"dataframe\">\n",
       "  <thead>\n",
       "    <tr style=\"text-align: right;\">\n",
       "      <th></th>\n",
       "      <th>slno</th>\n",
       "      <th>registrationNo</th>\n",
       "      <th>reserve_no</th>\n",
       "      <th>regvalidfrom</th>\n",
       "      <th>regvalidto</th>\n",
       "      <th>makerName</th>\n",
       "      <th>modelDesc</th>\n",
       "      <th>bodyType</th>\n",
       "      <th>cc</th>\n",
       "      <th>cylinder</th>\n",
       "      <th>fuel</th>\n",
       "      <th>hp</th>\n",
       "      <th>seatCapacity</th>\n",
       "      <th>OfficeCd</th>\n",
       "      <th>fromdate</th>\n",
       "      <th>todate</th>\n",
       "    </tr>\n",
       "  </thead>\n",
       "  <tbody>\n",
       "    <tr>\n",
       "      <th>0</th>\n",
       "      <td>9287073</td>\n",
       "      <td>TS36G2115</td>\n",
       "      <td>NaN</td>\n",
       "      <td>02/03/2020</td>\n",
       "      <td>2035-03-01T17:12:20.747+05:30</td>\n",
       "      <td>MARUTI SUZUKI INDIA LTD.,</td>\n",
       "      <td>MARUTI XL6 SMART HYBRID ALPHA BSVI</td>\n",
       "      <td>HATCHBACK</td>\n",
       "      <td>1462.0</td>\n",
       "      <td>4</td>\n",
       "      <td>PETROL</td>\n",
       "      <td>103.25</td>\n",
       "      <td>6</td>\n",
       "      <td>RTA SIDDIPET</td>\n",
       "      <td>01/01/2025</td>\n",
       "      <td>02/01/2025</td>\n",
       "    </tr>\n",
       "    <tr>\n",
       "      <th>1</th>\n",
       "      <td>10311462</td>\n",
       "      <td>TS21J6061</td>\n",
       "      <td>NaN</td>\n",
       "      <td>29/01/2021</td>\n",
       "      <td>2036-01-28T16:46:36.317+05:30</td>\n",
       "      <td>MARUTI SUZUKI INDIA LTD.,</td>\n",
       "      <td>MARUTI S-PRESSO VXI BSVI</td>\n",
       "      <td>HATCHBACK</td>\n",
       "      <td>998.0</td>\n",
       "      <td>3</td>\n",
       "      <td>PETROL</td>\n",
       "      <td>67.05</td>\n",
       "      <td>5</td>\n",
       "      <td>RTA JAGITYAL</td>\n",
       "      <td>01/01/2025</td>\n",
       "      <td>02/01/2025</td>\n",
       "    </tr>\n",
       "    <tr>\n",
       "      <th>2</th>\n",
       "      <td>10949878</td>\n",
       "      <td>TS08HW0365</td>\n",
       "      <td>NaN</td>\n",
       "      <td>27/11/2021</td>\n",
       "      <td>2036-11-26T16:32:35.737+05:30</td>\n",
       "      <td>HONDA MOTORCYCLE&amp;SCOOTER(I)P L</td>\n",
       "      <td>ACTIVA 6G WITH LED HEAD LIGHT BSVI</td>\n",
       "      <td>Solo</td>\n",
       "      <td>109.0</td>\n",
       "      <td>1</td>\n",
       "      <td>PETROL</td>\n",
       "      <td>7.68</td>\n",
       "      <td>2</td>\n",
       "      <td>RTA UPPAL</td>\n",
       "      <td>01/01/2025</td>\n",
       "      <td>02/01/2025</td>\n",
       "    </tr>\n",
       "    <tr>\n",
       "      <th>3</th>\n",
       "      <td>5255752</td>\n",
       "      <td>TS08FB0182</td>\n",
       "      <td>NaN</td>\n",
       "      <td>03/11/2016</td>\n",
       "      <td>2031-11-02T16:55:19.72+05:30</td>\n",
       "      <td>HONDA MOTORCYCLE&amp;SCOOTER(I)P L</td>\n",
       "      <td>ACTIVA 3G W ELECTRIC A START&amp;K START &amp;CBS BSIII</td>\n",
       "      <td>Solo</td>\n",
       "      <td>109.0</td>\n",
       "      <td>1</td>\n",
       "      <td>PETROL</td>\n",
       "      <td>8.00</td>\n",
       "      <td>2</td>\n",
       "      <td>RTA UPPAL</td>\n",
       "      <td>01/01/2025</td>\n",
       "      <td>02/01/2025</td>\n",
       "    </tr>\n",
       "    <tr>\n",
       "      <th>4</th>\n",
       "      <td>1506087</td>\n",
       "      <td>AP29AJ8075</td>\n",
       "      <td>NaN</td>\n",
       "      <td>25/11/2009</td>\n",
       "      <td>2030-01-01T11:00:52.313+05:30</td>\n",
       "      <td>MARUTI SUZUKI INDIA LTD.,</td>\n",
       "      <td>MARUTI  RITZ LDI BSIV</td>\n",
       "      <td>Solo</td>\n",
       "      <td>1248.0</td>\n",
       "      <td>4</td>\n",
       "      <td>DIESEL</td>\n",
       "      <td>55.00</td>\n",
       "      <td>5</td>\n",
       "      <td>RTA SIDDIPET</td>\n",
       "      <td>01/01/2025</td>\n",
       "      <td>02/01/2025</td>\n",
       "    </tr>\n",
       "  </tbody>\n",
       "</table>\n",
       "</div>"
      ],
      "text/plain": [
       "       slno registrationNo reserve_no regvalidfrom  \\\n",
       "0   9287073      TS36G2115        NaN   02/03/2020   \n",
       "1  10311462      TS21J6061        NaN   29/01/2021   \n",
       "2  10949878     TS08HW0365        NaN   27/11/2021   \n",
       "3   5255752     TS08FB0182        NaN   03/11/2016   \n",
       "4   1506087     AP29AJ8075        NaN   25/11/2009   \n",
       "\n",
       "                      regvalidto                       makerName  \\\n",
       "0  2035-03-01T17:12:20.747+05:30       MARUTI SUZUKI INDIA LTD.,   \n",
       "1  2036-01-28T16:46:36.317+05:30       MARUTI SUZUKI INDIA LTD.,   \n",
       "2  2036-11-26T16:32:35.737+05:30  HONDA MOTORCYCLE&SCOOTER(I)P L   \n",
       "3   2031-11-02T16:55:19.72+05:30  HONDA MOTORCYCLE&SCOOTER(I)P L   \n",
       "4  2030-01-01T11:00:52.313+05:30       MARUTI SUZUKI INDIA LTD.,   \n",
       "\n",
       "                                         modelDesc   bodyType      cc  \\\n",
       "0               MARUTI XL6 SMART HYBRID ALPHA BSVI  HATCHBACK  1462.0   \n",
       "1                         MARUTI S-PRESSO VXI BSVI  HATCHBACK   998.0   \n",
       "2               ACTIVA 6G WITH LED HEAD LIGHT BSVI       Solo   109.0   \n",
       "3  ACTIVA 3G W ELECTRIC A START&K START &CBS BSIII       Solo   109.0   \n",
       "4                            MARUTI  RITZ LDI BSIV       Solo  1248.0   \n",
       "\n",
       "   cylinder    fuel      hp  seatCapacity      OfficeCd    fromdate  \\\n",
       "0         4  PETROL  103.25             6  RTA SIDDIPET  01/01/2025   \n",
       "1         3  PETROL   67.05             5  RTA JAGITYAL  01/01/2025   \n",
       "2         1  PETROL    7.68             2     RTA UPPAL  01/01/2025   \n",
       "3         1  PETROL    8.00             2     RTA UPPAL  01/01/2025   \n",
       "4         4  DIESEL   55.00             5  RTA SIDDIPET  01/01/2025   \n",
       "\n",
       "       todate  \n",
       "0  02/01/2025  \n",
       "1  02/01/2025  \n",
       "2  02/01/2025  \n",
       "3  02/01/2025  \n",
       "4  02/01/2025  "
      ]
     },
     "execution_count": 121,
     "metadata": {},
     "output_type": "execute_result"
    }
   ],
   "source": []
  },
  {
   "cell_type": "code",
   "execution_count": 136,
   "id": "3a41a9ce-b555-42b2-bd07-9c11a661459a",
   "metadata": {},
   "outputs": [],
   "source": [
    "df.dropna(subset=[\"registrationNo\",\"regvalidfrom\"],inplace =True)"
   ]
  },
  {
   "cell_type": "code",
   "execution_count": 137,
   "id": "6f0c666a-bd2a-4a46-9581-7cb12d15cee3",
   "metadata": {},
   "outputs": [
    {
     "name": "stdout",
     "output_type": "stream",
     "text": [
      "<class 'pandas.core.frame.DataFrame'>\n",
      "Index: 174054 entries, 0 to 343136\n",
      "Data columns (total 16 columns):\n",
      " #   Column          Non-Null Count   Dtype                    \n",
      "---  ------          --------------   -----                    \n",
      " 0   slno            174054 non-null  int64                    \n",
      " 1   registrationNo  174054 non-null  object                   \n",
      " 2   reserve_no      11306 non-null   object                   \n",
      " 3   regvalidfrom    174054 non-null  datetime64[ns]           \n",
      " 4   regvalidto      174054 non-null  datetime64[ns, UTC+05:30]\n",
      " 5   makerName       174054 non-null  object                   \n",
      " 6   modelDesc       174054 non-null  object                   \n",
      " 7   bodyType        174054 non-null  object                   \n",
      " 8   cc              174054 non-null  float64                  \n",
      " 9   cylinder        174054 non-null  int64                    \n",
      " 10  fuel            174054 non-null  object                   \n",
      " 11  hp              174054 non-null  float64                  \n",
      " 12  seatCapacity    174054 non-null  int64                    \n",
      " 13  OfficeCd        174054 non-null  object                   \n",
      " 14  fromdate        174054 non-null  datetime64[ns]           \n",
      " 15  todate          174054 non-null  datetime64[ns]           \n",
      "dtypes: datetime64[ns, UTC+05:30](1), datetime64[ns](3), float64(2), int64(3), object(7)\n",
      "memory usage: 22.6+ MB\n"
     ]
    }
   ],
   "source": [
    "df.info()"
   ]
  },
  {
   "cell_type": "markdown",
   "id": "5f14a788-d6ad-4057-a3ed-89bc9c119d3c",
   "metadata": {},
   "source": [
    "# without loss one column finally got the final stages"
   ]
  },
  {
   "cell_type": "code",
   "execution_count": null,
   "id": "ec3dee51-2f70-4d0f-9b51-2f95562cd615",
   "metadata": {},
   "outputs": [],
   "source": []
  }
 ],
 "metadata": {
  "kernelspec": {
   "display_name": "Python 3 (ipykernel)",
   "language": "python",
   "name": "python3"
  },
  "language_info": {
   "codemirror_mode": {
    "name": "ipython",
    "version": 3
   },
   "file_extension": ".py",
   "mimetype": "text/x-python",
   "name": "python",
   "nbconvert_exporter": "python",
   "pygments_lexer": "ipython3",
   "version": "3.12.9"
  }
 },
 "nbformat": 4,
 "nbformat_minor": 5
}
